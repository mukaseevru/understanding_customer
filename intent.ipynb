{
 "cells": [
  {
   "cell_type": "code",
   "execution_count": 1,
   "metadata": {
    "colab": {
     "base_uri": "https://localhost:8080/"
    },
    "id": "0Vb-AHuBvOxI",
    "outputId": "ec0cab79-7ddd-4688-b1d3-13a17063729b"
   },
   "outputs": [
    {
     "name": "stdout",
     "output_type": "stream",
     "text": [
      "Drive already mounted at /content/drive; to attempt to forcibly remount, call drive.mount(\"/content/drive\", force_remount=True).\n"
     ]
    }
   ],
   "source": [
    "# For Colab\n",
    "from google.colab import drive\n",
    "drive.mount('/content/drive')"
   ]
  },
  {
   "cell_type": "markdown",
   "metadata": {
    "id": "ERNu8KMaxEcT"
   },
   "source": [
    "# Imports"
   ]
  },
  {
   "cell_type": "code",
   "execution_count": 2,
   "metadata": {
    "id": "a_WypuUXi92e"
   },
   "outputs": [],
   "source": [
    "import numpy as np\n",
    "import pandas as pd\n",
    "from nltk.corpus import stopwords\n",
    "from nltk.tokenize import word_tokenize\n",
    "from nltk.stem.lancaster import LancasterStemmer\n",
    "import nltk\n",
    "import re\n",
    "from sklearn.preprocessing import OneHotEncoder\n",
    "from sklearn.metrics import roc_auc_score\n",
    "from sklearn.preprocessing import label_binarize\n",
    "from sklearn.model_selection import train_test_split\n",
    "import matplotlib.pyplot as plt\n",
    "from keras.preprocessing.text import Tokenizer\n",
    "from keras.preprocessing.sequence import pad_sequences\n",
    "# from tensorflow.keras.utils import to_categorical\n",
    "from keras.models import Sequential, load_model\n",
    "from keras.layers import Dense, LSTM, Bidirectional, Embedding, Dropout, Conv2D, MaxPool2D, Flatten, Reshape\n",
    "from keras.callbacks import ModelCheckpoint\n",
    "import tensorflow as tf\n",
    "import tensorflow_hub as hub\n",
    "import tensorflow_text as text\n",
    "tf.get_logger().setLevel('ERROR')"
   ]
  },
  {
   "cell_type": "markdown",
   "metadata": {
    "id": "7Tc_pLFkxHTz"
   },
   "source": [
    "# Functions"
   ]
  },
  {
   "cell_type": "code",
   "execution_count": 3,
   "metadata": {
    "id": "qSTEzrlzcuya"
   },
   "outputs": [],
   "source": [
    "def get_predictions(text, model, all=False):\n",
    "    clean = re.sub(r'[^ a-z A-Z 0-9]', ' ', text)\n",
    "    test_word = word_tokenize(clean)\n",
    "    test_word = [w.lower() for w in test_word]\n",
    "    test_ls = word_tokenizer.texts_to_sequences(test_word)\n",
    "    # print(test_word)\n",
    "    #Check for unknown words\n",
    "    if [] in test_ls:\n",
    "        test_ls = list(filter(None, test_ls))\n",
    "    test_ls = np.array(test_ls).reshape(1, len(test_ls))\n",
    "    x = padding_doc(test_ls, max_length)\n",
    "    pred = model.predict(x)\n",
    "    id = np.argmax(pred)\n",
    "    if all:\n",
    "      return pred\n",
    "    return df['intent'].unique()[id]"
   ]
  },
  {
   "cell_type": "code",
   "execution_count": 4,
   "metadata": {
    "id": "yPxKJPtRv6bD"
   },
   "outputs": [],
   "source": [
    "# For Colab\n",
    "PATH = '/content/drive/MyDrive/Colab Notebooks/21/intent/data/'\n",
    "NLTK_PATH = '/content/drive/MyDrive/Colab Notebooks/21/intent/nltk_data/'\n",
    "roc_auc_matrix = pd.DataFrame(columns=['model','roc_auc'])"
   ]
  },
  {
   "cell_type": "code",
   "execution_count": 5,
   "metadata": {
    "colab": {
     "base_uri": "https://localhost:8080/"
    },
    "id": "MhrziINPGHbW",
    "outputId": "67cfb54f-3758-4496-e8b4-50cfc1dea8ae"
   },
   "outputs": [
    {
     "name": "stderr",
     "output_type": "stream",
     "text": [
      "[nltk_data] Downloading package stopwords to /root/nltk_data...\n",
      "[nltk_data]   Package stopwords is already up-to-date!\n",
      "[nltk_data] Downloading package punkt to /root/nltk_data...\n",
      "[nltk_data]   Package punkt is already up-to-date!\n"
     ]
    },
    {
     "data": {
      "text/plain": [
       "True"
      ]
     },
     "execution_count": 5,
     "metadata": {},
     "output_type": "execute_result"
    }
   ],
   "source": [
    "nltk.download('stopwords')\n",
    "nltk.download('punkt')"
   ]
  },
  {
   "cell_type": "markdown",
   "metadata": {
    "id": "S0AXBd7PxLlw"
   },
   "source": [
    "# Read data"
   ]
  },
  {
   "cell_type": "code",
   "execution_count": 6,
   "metadata": {
    "colab": {
     "base_uri": "https://localhost:8080/",
     "height": 204
    },
    "id": "yYWAqnUhV70u",
    "outputId": "184a2209-5d35-4b13-cd5f-eafe7949a5d5"
   },
   "outputs": [
    {
     "data": {
      "text/html": [
       "\n",
       "  <div id=\"df-12fb396b-7f45-4737-b12b-f2b42e6a9a08\">\n",
       "    <div class=\"colab-df-container\">\n",
       "      <div>\n",
       "<style scoped>\n",
       "    .dataframe tbody tr th:only-of-type {\n",
       "        vertical-align: middle;\n",
       "    }\n",
       "\n",
       "    .dataframe tbody tr th {\n",
       "        vertical-align: top;\n",
       "    }\n",
       "\n",
       "    .dataframe thead th {\n",
       "        text-align: right;\n",
       "    }\n",
       "</style>\n",
       "<table border=\"1\" class=\"dataframe\">\n",
       "  <thead>\n",
       "    <tr style=\"text-align: right;\">\n",
       "      <th></th>\n",
       "      <th>text</th>\n",
       "      <th>intent</th>\n",
       "    </tr>\n",
       "  </thead>\n",
       "  <tbody>\n",
       "    <tr>\n",
       "      <th>0</th>\n",
       "      <td>Carbon fiber bike</td>\n",
       "      <td>Bike Types</td>\n",
       "    </tr>\n",
       "    <tr>\n",
       "      <th>1</th>\n",
       "      <td>budget bikes</td>\n",
       "      <td>Bike Types</td>\n",
       "    </tr>\n",
       "    <tr>\n",
       "      <th>2</th>\n",
       "      <td>professional bikes</td>\n",
       "      <td>Bike Types</td>\n",
       "    </tr>\n",
       "    <tr>\n",
       "      <th>3</th>\n",
       "      <td>bikes for men</td>\n",
       "      <td>Bike Types</td>\n",
       "    </tr>\n",
       "    <tr>\n",
       "      <th>4</th>\n",
       "      <td>bikes for women</td>\n",
       "      <td>Bike Types</td>\n",
       "    </tr>\n",
       "  </tbody>\n",
       "</table>\n",
       "</div>\n",
       "      <button class=\"colab-df-convert\" onclick=\"convertToInteractive('df-12fb396b-7f45-4737-b12b-f2b42e6a9a08')\"\n",
       "              title=\"Convert this dataframe to an interactive table.\"\n",
       "              style=\"display:none;\">\n",
       "        \n",
       "  <svg xmlns=\"http://www.w3.org/2000/svg\" height=\"24px\"viewBox=\"0 0 24 24\"\n",
       "       width=\"24px\">\n",
       "    <path d=\"M0 0h24v24H0V0z\" fill=\"none\"/>\n",
       "    <path d=\"M18.56 5.44l.94 2.06.94-2.06 2.06-.94-2.06-.94-.94-2.06-.94 2.06-2.06.94zm-11 1L8.5 8.5l.94-2.06 2.06-.94-2.06-.94L8.5 2.5l-.94 2.06-2.06.94zm10 10l.94 2.06.94-2.06 2.06-.94-2.06-.94-.94-2.06-.94 2.06-2.06.94z\"/><path d=\"M17.41 7.96l-1.37-1.37c-.4-.4-.92-.59-1.43-.59-.52 0-1.04.2-1.43.59L10.3 9.45l-7.72 7.72c-.78.78-.78 2.05 0 2.83L4 21.41c.39.39.9.59 1.41.59.51 0 1.02-.2 1.41-.59l7.78-7.78 2.81-2.81c.8-.78.8-2.07 0-2.86zM5.41 20L4 18.59l7.72-7.72 1.47 1.35L5.41 20z\"/>\n",
       "  </svg>\n",
       "      </button>\n",
       "      \n",
       "  <style>\n",
       "    .colab-df-container {\n",
       "      display:flex;\n",
       "      flex-wrap:wrap;\n",
       "      gap: 12px;\n",
       "    }\n",
       "\n",
       "    .colab-df-convert {\n",
       "      background-color: #E8F0FE;\n",
       "      border: none;\n",
       "      border-radius: 50%;\n",
       "      cursor: pointer;\n",
       "      display: none;\n",
       "      fill: #1967D2;\n",
       "      height: 32px;\n",
       "      padding: 0 0 0 0;\n",
       "      width: 32px;\n",
       "    }\n",
       "\n",
       "    .colab-df-convert:hover {\n",
       "      background-color: #E2EBFA;\n",
       "      box-shadow: 0px 1px 2px rgba(60, 64, 67, 0.3), 0px 1px 3px 1px rgba(60, 64, 67, 0.15);\n",
       "      fill: #174EA6;\n",
       "    }\n",
       "\n",
       "    [theme=dark] .colab-df-convert {\n",
       "      background-color: #3B4455;\n",
       "      fill: #D2E3FC;\n",
       "    }\n",
       "\n",
       "    [theme=dark] .colab-df-convert:hover {\n",
       "      background-color: #434B5C;\n",
       "      box-shadow: 0px 1px 3px 1px rgba(0, 0, 0, 0.15);\n",
       "      filter: drop-shadow(0px 1px 2px rgba(0, 0, 0, 0.3));\n",
       "      fill: #FFFFFF;\n",
       "    }\n",
       "  </style>\n",
       "\n",
       "      <script>\n",
       "        const buttonEl =\n",
       "          document.querySelector('#df-12fb396b-7f45-4737-b12b-f2b42e6a9a08 button.colab-df-convert');\n",
       "        buttonEl.style.display =\n",
       "          google.colab.kernel.accessAllowed ? 'block' : 'none';\n",
       "\n",
       "        async function convertToInteractive(key) {\n",
       "          const element = document.querySelector('#df-12fb396b-7f45-4737-b12b-f2b42e6a9a08');\n",
       "          const dataTable =\n",
       "            await google.colab.kernel.invokeFunction('convertToInteractive',\n",
       "                                                     [key], {});\n",
       "          if (!dataTable) return;\n",
       "\n",
       "          const docLinkHtml = 'Like what you see? Visit the ' +\n",
       "            '<a target=\"_blank\" href=https://colab.research.google.com/notebooks/data_table.ipynb>data table notebook</a>'\n",
       "            + ' to learn more about interactive tables.';\n",
       "          element.innerHTML = '';\n",
       "          dataTable['output_type'] = 'display_data';\n",
       "          await google.colab.output.renderOutput(dataTable, element);\n",
       "          const docLink = document.createElement('div');\n",
       "          docLink.innerHTML = docLinkHtml;\n",
       "          element.appendChild(docLink);\n",
       "        }\n",
       "      </script>\n",
       "    </div>\n",
       "  </div>\n",
       "  "
      ],
      "text/plain": [
       "                 text      intent\n",
       "0   Carbon fiber bike  Bike Types\n",
       "1        budget bikes  Bike Types\n",
       "2  professional bikes  Bike Types\n",
       "3       bikes for men  Bike Types\n",
       "4     bikes for women  Bike Types"
      ]
     },
     "execution_count": 6,
     "metadata": {},
     "output_type": "execute_result"
    }
   ],
   "source": [
    "# df = pd.read_csv(PATH+'intents_train.csv', header=0)\n",
    "df = pd.read_csv(PATH+'intents_train_new.csv', header=0)\n",
    "df.head()"
   ]
  },
  {
   "cell_type": "code",
   "execution_count": 7,
   "metadata": {
    "colab": {
     "base_uri": "https://localhost:8080/"
    },
    "id": "WdskmN0qWWsD",
    "outputId": "c5325693-4beb-4ac6-fa76-70ec6858f243"
   },
   "outputs": [
    {
     "name": "stdout",
     "output_type": "stream",
     "text": [
      "<class 'pandas.core.frame.DataFrame'>\n",
      "RangeIndex: 118 entries, 0 to 117\n",
      "Data columns (total 2 columns):\n",
      " #   Column  Non-Null Count  Dtype \n",
      "---  ------  --------------  ----- \n",
      " 0   text    118 non-null    object\n",
      " 1   intent  118 non-null    object\n",
      "dtypes: object(2)\n",
      "memory usage: 2.0+ KB\n"
     ]
    }
   ],
   "source": [
    "df.info()"
   ]
  },
  {
   "cell_type": "code",
   "execution_count": 8,
   "metadata": {
    "colab": {
     "base_uri": "https://localhost:8080/"
    },
    "id": "rG-UZG3mWZYs",
    "outputId": "26957bb9-e96f-452d-db0f-d38e04f9ee99"
   },
   "outputs": [
    {
     "data": {
      "text/plain": [
       "array(['Bike Types', 'Cost Estimation', 'Hours', 'Make Appointment',\n",
       "       'Return Policy', 'Trade-in Options', 'Welcome Intent'],\n",
       "      dtype=object)"
      ]
     },
     "execution_count": 8,
     "metadata": {},
     "output_type": "execute_result"
    }
   ],
   "source": [
    "df['intent'].unique()"
   ]
  },
  {
   "cell_type": "code",
   "execution_count": 9,
   "metadata": {
    "id": "8F6gVOYMwuip"
   },
   "outputs": [],
   "source": [
    "df['intent'] = df['intent'].replace(['Bike Types', 'Cost Estimation', 'Make Appointment', 'Return Policy', 'Trade-in Options', 'Welcome Intent'],\n",
    "                                    ['Bike.Types', 'Cost.Estimation', 'Make.Appointment', 'Return.Policy', 'Trade.in.Options', 'Welcome.Intent'])"
   ]
  },
  {
   "cell_type": "code",
   "execution_count": 10,
   "metadata": {
    "id": "OmNLu2YSXePb"
   },
   "outputs": [],
   "source": [
    "# define stemmer\n",
    "stemmer = LancasterStemmer()"
   ]
  },
  {
   "cell_type": "code",
   "execution_count": 11,
   "metadata": {
    "id": "j-7q3iG5PKYI"
   },
   "outputs": [],
   "source": [
    "def cleaning(sentences):\n",
    "    words = []\n",
    "    for s in sentences:\n",
    "        clean = re.sub(r'[^ a-z A-Z 0-9]', ' ', s)\n",
    "        w = word_tokenize(clean)\n",
    "        #stemming\n",
    "        words.append([i.lower() for i in w])\n",
    "      \n",
    "    return words  "
   ]
  },
  {
   "cell_type": "code",
   "execution_count": 12,
   "metadata": {
    "colab": {
     "base_uri": "https://localhost:8080/"
    },
    "id": "p1j2GJgDG6qj",
    "outputId": "be8a4edd-3edf-4d8b-b05d-24654f7ffd50"
   },
   "outputs": [
    {
     "name": "stdout",
     "output_type": "stream",
     "text": [
      "118\n",
      "[['carbon', 'fiber', 'bike'], ['budget', 'bikes']]\n"
     ]
    }
   ],
   "source": [
    "cleaned_words = cleaning(df['text'])\n",
    "print(len(cleaned_words))\n",
    "print(cleaned_words[:2])"
   ]
  },
  {
   "cell_type": "code",
   "execution_count": 13,
   "metadata": {
    "id": "SJCQ_YhBJW7t"
   },
   "outputs": [],
   "source": [
    "def create_tokenizer(words, filters = '!\"#$%&()*+,-./:;<=>?@[\\]^_`{|}~'):\n",
    "    token = Tokenizer(filters=filters)\n",
    "    token.fit_on_texts(words)\n",
    "    \n",
    "    return token"
   ]
  },
  {
   "cell_type": "code",
   "execution_count": 14,
   "metadata": {
    "id": "QJhdIJC5Q3Q6"
   },
   "outputs": [],
   "source": [
    "def max_length(words):\n",
    "    return(len(max(words, key=len)))"
   ]
  },
  {
   "cell_type": "code",
   "execution_count": 15,
   "metadata": {
    "colab": {
     "base_uri": "https://localhost:8080/"
    },
    "id": "JWjxPGsZZJNX",
    "outputId": "82e2f708-8f48-4bd5-8c00-1b48fadf10a8"
   },
   "outputs": [
    {
     "name": "stdout",
     "output_type": "stream",
     "text": [
      "Vocab Size = 153 and Maximum length = 14\n"
     ]
    }
   ],
   "source": [
    "word_tokenizer = create_tokenizer(cleaned_words)\n",
    "vocab_size = len(word_tokenizer.word_index) + 1\n",
    "max_length = max_length(cleaned_words)\n",
    "print(f'Vocab Size = {vocab_size} and Maximum length = {max_length}')"
   ]
  },
  {
   "cell_type": "code",
   "execution_count": 16,
   "metadata": {
    "id": "D0TXu2xsR8jq"
   },
   "outputs": [],
   "source": [
    "def encoding_doc(token, words):\n",
    "    return(token.texts_to_sequences(words))"
   ]
  },
  {
   "cell_type": "code",
   "execution_count": 17,
   "metadata": {
    "id": "dE92Hk1Va--H"
   },
   "outputs": [],
   "source": [
    "encoded_doc = encoding_doc(word_tokenizer, cleaned_words)"
   ]
  },
  {
   "cell_type": "code",
   "execution_count": 18,
   "metadata": {
    "id": "fyOzLEboc4LZ"
   },
   "outputs": [],
   "source": [
    "def padding_doc(encoded_doc, max_length):\n",
    "    return(pad_sequences(encoded_doc, maxlen=max_length, padding='post'))"
   ]
  },
  {
   "cell_type": "code",
   "execution_count": 19,
   "metadata": {
    "id": "WdejoJrlc-tc"
   },
   "outputs": [],
   "source": [
    "padded_doc = padding_doc(encoded_doc, max_length)"
   ]
  },
  {
   "cell_type": "code",
   "execution_count": 20,
   "metadata": {
    "colab": {
     "base_uri": "https://localhost:8080/"
    },
    "id": "gDgTCS2KdI2p",
    "outputId": "c4261781-0d56-45af-ea4e-da16f38f6a48"
   },
   "outputs": [
    {
     "data": {
      "text/plain": [
       "array([[74, 75,  5,  0,  0,  0,  0,  0,  0,  0,  0,  0,  0,  0],\n",
       "       [51,  6,  0,  0,  0,  0,  0,  0,  0,  0,  0,  0,  0,  0],\n",
       "       [52,  6,  0,  0,  0,  0,  0,  0,  0,  0,  0,  0,  0,  0],\n",
       "       [ 6,  4, 76,  0,  0,  0,  0,  0,  0,  0,  0,  0,  0,  0],\n",
       "       [ 6,  4, 77,  0,  0,  0,  0,  0,  0,  0,  0,  0,  0,  0]],\n",
       "      dtype=int32)"
      ]
     },
     "execution_count": 20,
     "metadata": {},
     "output_type": "execute_result"
    }
   ],
   "source": [
    "padded_doc[:5]"
   ]
  },
  {
   "cell_type": "code",
   "execution_count": 21,
   "metadata": {
    "colab": {
     "base_uri": "https://localhost:8080/"
    },
    "id": "3eaSIDi0dNf1",
    "outputId": "fd825975-4f9d-4018-d0b9-1aff6c7afcd2"
   },
   "outputs": [
    {
     "name": "stdout",
     "output_type": "stream",
     "text": [
      "Shape of padded docs = (118, 14)\n"
     ]
    }
   ],
   "source": [
    "print(f'Shape of padded docs = {padded_doc.shape}')"
   ]
  },
  {
   "cell_type": "code",
   "execution_count": 22,
   "metadata": {
    "id": "X0rXzenSpgFR"
   },
   "outputs": [],
   "source": [
    "# tokenizer with filter changed\n",
    "output_tokenizer = create_tokenizer(df['intent'].unique(), filters='!\"#$%&()*+,-/:;<=>?@[\\]^`{|}~')"
   ]
  },
  {
   "cell_type": "code",
   "execution_count": 23,
   "metadata": {
    "colab": {
     "base_uri": "https://localhost:8080/"
    },
    "id": "yNHQtkszskxr",
    "outputId": "40bba728-2b2b-4e0d-a026-e832d602f086"
   },
   "outputs": [
    {
     "data": {
      "text/plain": [
       "{'bike.types': 1,\n",
       " 'cost.estimation': 2,\n",
       " 'hours': 3,\n",
       " 'make.appointment': 4,\n",
       " 'return.policy': 5,\n",
       " 'trade.in.options': 6,\n",
       " 'welcome.intent': 7}"
      ]
     },
     "execution_count": 23,
     "metadata": {},
     "output_type": "execute_result"
    }
   ],
   "source": [
    "output_tokenizer.word_index"
   ]
  },
  {
   "cell_type": "code",
   "execution_count": 24,
   "metadata": {
    "id": "7OOx9qdBto1-"
   },
   "outputs": [],
   "source": [
    "encoded_output = encoding_doc(output_tokenizer, df['intent'])"
   ]
  },
  {
   "cell_type": "code",
   "execution_count": 25,
   "metadata": {
    "id": "0_5Lv5PiyG-z"
   },
   "outputs": [],
   "source": [
    "encoded_output = np.array(encoded_output, dtype=object).reshape(len(encoded_output), 1)"
   ]
  },
  {
   "cell_type": "code",
   "execution_count": 26,
   "metadata": {
    "colab": {
     "base_uri": "https://localhost:8080/"
    },
    "id": "dpM86WrVQlx5",
    "outputId": "5599c034-b6f7-49be-b60c-bb8454ee6f93"
   },
   "outputs": [
    {
     "data": {
      "text/plain": [
       "(118, 1)"
      ]
     },
     "execution_count": 26,
     "metadata": {},
     "output_type": "execute_result"
    }
   ],
   "source": [
    "encoded_output.shape"
   ]
  },
  {
   "cell_type": "code",
   "execution_count": 27,
   "metadata": {
    "id": "rD3QN-RPzfet"
   },
   "outputs": [],
   "source": [
    "def one_hot(encode):\n",
    "    o = OneHotEncoder(sparse=False)\n",
    "    \n",
    "    return(o.fit_transform(encode))"
   ]
  },
  {
   "cell_type": "code",
   "execution_count": 28,
   "metadata": {
    "id": "Z6wP_Xed7RNR"
   },
   "outputs": [],
   "source": [
    "output_one_hot = one_hot(encoded_output)"
   ]
  },
  {
   "cell_type": "code",
   "execution_count": 29,
   "metadata": {
    "colab": {
     "base_uri": "https://localhost:8080/"
    },
    "id": "A6HVslLTHgOM",
    "outputId": "01fb3649-14c9-4ddf-d8ab-7f69eb65ee4a"
   },
   "outputs": [
    {
     "data": {
      "text/plain": [
       "(118, 7)"
      ]
     },
     "execution_count": 29,
     "metadata": {},
     "output_type": "execute_result"
    }
   ],
   "source": [
    "output_one_hot.shape"
   ]
  },
  {
   "cell_type": "code",
   "execution_count": 30,
   "metadata": {
    "id": "h8P4HTz6A4E-"
   },
   "outputs": [],
   "source": [
    "X_train, X_test, y_train, y_test = train_test_split(padded_doc, output_one_hot, shuffle=True, test_size=0.2, random_state=21)"
   ]
  },
  {
   "cell_type": "code",
   "execution_count": 31,
   "metadata": {
    "colab": {
     "base_uri": "https://localhost:8080/"
    },
    "id": "7E0uhC2OCtTx",
    "outputId": "faff38dc-bb2c-4647-ac87-11a79c427da1"
   },
   "outputs": [
    {
     "name": "stdout",
     "output_type": "stream",
     "text": [
      "Shape of train_X = (94, 14) and train_Y = (94, 7)\n",
      "Shape of val_X = (24, 14) and val_Y = (24, 7)\n"
     ]
    }
   ],
   "source": [
    "print(f'Shape of train_X = {X_train.shape} and train_Y = {y_train.shape}')\n",
    "print(f'Shape of val_X = {X_test.shape} and val_Y = {y_test.shape}')"
   ]
  },
  {
   "cell_type": "markdown",
   "metadata": {
    "id": "MVALFvlexd2P"
   },
   "source": [
    "# RNN model"
   ]
  },
  {
   "cell_type": "code",
   "execution_count": 32,
   "metadata": {
    "id": "e5BU_x74DNEb"
   },
   "outputs": [],
   "source": [
    "def create_model_rnn(vocab_size, max_length):\n",
    "    model = Sequential()\n",
    "    model.add(Embedding(vocab_size, 64, input_length=max_length, mask_zero=True))\n",
    "    model.add(Bidirectional(LSTM(64, return_sequences=True)))\n",
    "    model.add(Bidirectional(LSTM(32)))\n",
    "    model.add(Dense(64, activation='relu'))\n",
    "    model.add(Dropout(0.5))\n",
    "    model.add(Dense(7, activation='softmax'))\n",
    "    \n",
    "    return model"
   ]
  },
  {
   "cell_type": "code",
   "execution_count": 33,
   "metadata": {
    "colab": {
     "base_uri": "https://localhost:8080/"
    },
    "id": "f-NvE0P7MFCe",
    "outputId": "e6d561c8-19d2-4dc7-bfc0-2ad46218e394"
   },
   "outputs": [
    {
     "name": "stdout",
     "output_type": "stream",
     "text": [
      "Model: \"sequential\"\n",
      "_________________________________________________________________\n",
      " Layer (type)                Output Shape              Param #   \n",
      "=================================================================\n",
      " embedding (Embedding)       (None, 14, 64)            9792      \n",
      "                                                                 \n",
      " bidirectional (Bidirectiona  (None, 14, 128)          66048     \n",
      " l)                                                              \n",
      "                                                                 \n",
      " bidirectional_1 (Bidirectio  (None, 64)               41216     \n",
      " nal)                                                            \n",
      "                                                                 \n",
      " dense (Dense)               (None, 64)                4160      \n",
      "                                                                 \n",
      " dropout (Dropout)           (None, 64)                0         \n",
      "                                                                 \n",
      " dense_1 (Dense)             (None, 7)                 455       \n",
      "                                                                 \n",
      "=================================================================\n",
      "Total params: 121,671\n",
      "Trainable params: 121,671\n",
      "Non-trainable params: 0\n",
      "_________________________________________________________________\n"
     ]
    }
   ],
   "source": [
    "model_rnn = create_model_rnn(vocab_size, max_length)\n",
    "model_rnn.compile(loss='categorical_crossentropy', optimizer='adam', metrics=['acc'])\n",
    "model_rnn.summary()"
   ]
  },
  {
   "cell_type": "code",
   "execution_count": 34,
   "metadata": {
    "colab": {
     "base_uri": "https://localhost:8080/",
     "height": 661
    },
    "id": "IWO9SA9Loz4E",
    "outputId": "50cf76d1-4adf-4e06-da99-f2b4ce3f6f98"
   },
   "outputs": [
    {
     "data": {
      "image/png": "[encoded data removed]",
      "text/plain": [
       "<IPython.core.display.Image object>"
      ]
     },
     "execution_count": 34,
     "metadata": {},
     "output_type": "execute_result"
    }
   ],
   "source": [
    "tf.keras.utils.plot_model(model_rnn)"
   ]
  },
  {
   "cell_type": "code",
   "execution_count": 35,
   "metadata": {
    "colab": {
     "base_uri": "https://localhost:8080/"
    },
    "id": "_r-dxm2sMQ-d",
    "outputId": "2dec466a-9975-4455-8a8d-c61b1c7b21c2"
   },
   "outputs": [
    {
     "name": "stdout",
     "output_type": "stream",
     "text": [
      "Epoch 1/50\n",
      "2/3 [===================>..........] - ETA: 0s - loss: 1.9453 - acc: 0.1719 \n",
      "Epoch 1: val_loss improved from inf to 1.94111, saving model to /content/drive/MyDrive/Colab Notebooks/21/intent/data/model_rnn.h5\n",
      "3/3 [==============================] - 31s 3s/step - loss: 1.9445 - acc: 0.2021 - val_loss: 1.9411 - val_acc: 0.1250\n",
      "Epoch 2/50\n",
      "3/3 [==============================] - ETA: 0s - loss: 1.9384 - acc: 0.2234\n",
      "Epoch 2: val_loss improved from 1.94111 to 1.93816, saving model to /content/drive/MyDrive/Colab Notebooks/21/intent/data/model_rnn.h5\n",
      "3/3 [==============================] - 0s 104ms/step - loss: 1.9384 - acc: 0.2234 - val_loss: 1.9382 - val_acc: 0.2500\n",
      "Epoch 3/50\n",
      "3/3 [==============================] - ETA: 0s - loss: 1.9302 - acc: 0.2660\n",
      "Epoch 3: val_loss improved from 1.93816 to 1.93384, saving model to /content/drive/MyDrive/Colab Notebooks/21/intent/data/model_rnn.h5\n",
      "3/3 [==============================] - 0s 104ms/step - loss: 1.9302 - acc: 0.2660 - val_loss: 1.9338 - val_acc: 0.2917\n",
      "Epoch 4/50\n",
      "3/3 [==============================] - ETA: 0s - loss: 1.9194 - acc: 0.3085\n",
      "Epoch 4: val_loss improved from 1.93384 to 1.92748, saving model to /content/drive/MyDrive/Colab Notebooks/21/intent/data/model_rnn.h5\n",
      "3/3 [==============================] - 0s 99ms/step - loss: 1.9194 - acc: 0.3085 - val_loss: 1.9275 - val_acc: 0.1667\n",
      "Epoch 5/50\n",
      "2/3 [===================>..........] - ETA: 0s - loss: 1.9105 - acc: 0.3438\n",
      "Epoch 5: val_loss improved from 1.92748 to 1.91969, saving model to /content/drive/MyDrive/Colab Notebooks/21/intent/data/model_rnn.h5\n",
      "3/3 [==============================] - 0s 107ms/step - loss: 1.9089 - acc: 0.3404 - val_loss: 1.9197 - val_acc: 0.1667\n",
      "Epoch 6/50\n",
      "3/3 [==============================] - ETA: 0s - loss: 1.8944 - acc: 0.3404\n",
      "Epoch 6: val_loss improved from 1.91969 to 1.90994, saving model to /content/drive/MyDrive/Colab Notebooks/21/intent/data/model_rnn.h5\n",
      "3/3 [==============================] - 0s 105ms/step - loss: 1.8944 - acc: 0.3404 - val_loss: 1.9099 - val_acc: 0.2083\n",
      "Epoch 7/50\n",
      "3/3 [==============================] - ETA: 0s - loss: 1.8780 - acc: 0.3404\n",
      "Epoch 7: val_loss improved from 1.90994 to 1.89687, saving model to /content/drive/MyDrive/Colab Notebooks/21/intent/data/model_rnn.h5\n",
      "3/3 [==============================] - 0s 105ms/step - loss: 1.8780 - acc: 0.3404 - val_loss: 1.8969 - val_acc: 0.2083\n",
      "Epoch 8/50\n",
      "3/3 [==============================] - ETA: 0s - loss: 1.8498 - acc: 0.3830\n",
      "Epoch 8: val_loss improved from 1.89687 to 1.88023, saving model to /content/drive/MyDrive/Colab Notebooks/21/intent/data/model_rnn.h5\n",
      "3/3 [==============================] - 0s 102ms/step - loss: 1.8498 - acc: 0.3830 - val_loss: 1.8802 - val_acc: 0.2500\n",
      "Epoch 9/50\n",
      "3/3 [==============================] - ETA: 0s - loss: 1.8244 - acc: 0.3085\n",
      "Epoch 9: val_loss improved from 1.88023 to 1.85689, saving model to /content/drive/MyDrive/Colab Notebooks/21/intent/data/model_rnn.h5\n",
      "3/3 [==============================] - 0s 103ms/step - loss: 1.8244 - acc: 0.3085 - val_loss: 1.8569 - val_acc: 0.2500\n",
      "Epoch 10/50\n",
      "3/3 [==============================] - ETA: 0s - loss: 1.7759 - acc: 0.3723\n",
      "Epoch 10: val_loss improved from 1.85689 to 1.82537, saving model to /content/drive/MyDrive/Colab Notebooks/21/intent/data/model_rnn.h5\n",
      "3/3 [==============================] - 0s 108ms/step - loss: 1.7759 - acc: 0.3723 - val_loss: 1.8254 - val_acc: 0.2500\n",
      "Epoch 11/50\n",
      "3/3 [==============================] - ETA: 0s - loss: 1.7126 - acc: 0.3404\n",
      "Epoch 11: val_loss improved from 1.82537 to 1.78773, saving model to /content/drive/MyDrive/Colab Notebooks/21/intent/data/model_rnn.h5\n",
      "3/3 [==============================] - 0s 106ms/step - loss: 1.7126 - acc: 0.3404 - val_loss: 1.7877 - val_acc: 0.2500\n",
      "Epoch 12/50\n",
      "3/3 [==============================] - ETA: 0s - loss: 1.6658 - acc: 0.3830\n",
      "Epoch 12: val_loss improved from 1.78773 to 1.75037, saving model to /content/drive/MyDrive/Colab Notebooks/21/intent/data/model_rnn.h5\n",
      "3/3 [==============================] - 0s 106ms/step - loss: 1.6658 - acc: 0.3830 - val_loss: 1.7504 - val_acc: 0.2917\n",
      "Epoch 13/50\n",
      "3/3 [==============================] - ETA: 0s - loss: 1.5452 - acc: 0.4149\n",
      "Epoch 13: val_loss improved from 1.75037 to 1.69730, saving model to /content/drive/MyDrive/Colab Notebooks/21/intent/data/model_rnn.h5\n",
      "3/3 [==============================] - 0s 104ms/step - loss: 1.5452 - acc: 0.4149 - val_loss: 1.6973 - val_acc: 0.2917\n",
      "Epoch 14/50\n",
      "3/3 [==============================] - ETA: 0s - loss: 1.5162 - acc: 0.4043\n",
      "Epoch 14: val_loss improved from 1.69730 to 1.62572, saving model to /content/drive/MyDrive/Colab Notebooks/21/intent/data/model_rnn.h5\n",
      "3/3 [==============================] - 0s 107ms/step - loss: 1.5162 - acc: 0.4043 - val_loss: 1.6257 - val_acc: 0.3333\n",
      "Epoch 15/50\n",
      "3/3 [==============================] - ETA: 0s - loss: 1.3518 - acc: 0.5426\n",
      "Epoch 15: val_loss improved from 1.62572 to 1.56319, saving model to /content/drive/MyDrive/Colab Notebooks/21/intent/data/model_rnn.h5\n",
      "3/3 [==============================] - 0s 103ms/step - loss: 1.3518 - acc: 0.5426 - val_loss: 1.5632 - val_acc: 0.3750\n",
      "Epoch 16/50\n",
      "2/3 [===================>..........] - ETA: 0s - loss: 1.3569 - acc: 0.4844\n",
      "Epoch 16: val_loss improved from 1.56319 to 1.50137, saving model to /content/drive/MyDrive/Colab Notebooks/21/intent/data/model_rnn.h5\n",
      "3/3 [==============================] - 0s 104ms/step - loss: 1.2663 - acc: 0.5319 - val_loss: 1.5014 - val_acc: 0.4583\n",
      "Epoch 17/50\n",
      "3/3 [==============================] - ETA: 0s - loss: 1.1466 - acc: 0.6383\n",
      "Epoch 17: val_loss improved from 1.50137 to 1.46263, saving model to /content/drive/MyDrive/Colab Notebooks/21/intent/data/model_rnn.h5\n",
      "3/3 [==============================] - 0s 101ms/step - loss: 1.1466 - acc: 0.6383 - val_loss: 1.4626 - val_acc: 0.5000\n",
      "Epoch 18/50\n",
      "3/3 [==============================] - ETA: 0s - loss: 1.0538 - acc: 0.6489\n",
      "Epoch 18: val_loss improved from 1.46263 to 1.42336, saving model to /content/drive/MyDrive/Colab Notebooks/21/intent/data/model_rnn.h5\n",
      "3/3 [==============================] - 0s 139ms/step - loss: 1.0538 - acc: 0.6489 - val_loss: 1.4234 - val_acc: 0.5000\n",
      "Epoch 19/50\n",
      "3/3 [==============================] - ETA: 0s - loss: 0.9469 - acc: 0.7128\n",
      "Epoch 19: val_loss improved from 1.42336 to 1.39758, saving model to /content/drive/MyDrive/Colab Notebooks/21/intent/data/model_rnn.h5\n",
      "3/3 [==============================] - 0s 104ms/step - loss: 0.9469 - acc: 0.7128 - val_loss: 1.3976 - val_acc: 0.5417\n",
      "Epoch 20/50\n",
      "3/3 [==============================] - ETA: 0s - loss: 0.8554 - acc: 0.7553\n",
      "Epoch 20: val_loss did not improve from 1.39758\n",
      "3/3 [==============================] - 0s 64ms/step - loss: 0.8554 - acc: 0.7553 - val_loss: 1.4088 - val_acc: 0.6250\n",
      "Epoch 21/50\n",
      "3/3 [==============================] - ETA: 0s - loss: 0.7701 - acc: 0.8191\n",
      "Epoch 21: val_loss did not improve from 1.39758\n",
      "3/3 [==============================] - 0s 59ms/step - loss: 0.7701 - acc: 0.8191 - val_loss: 1.4102 - val_acc: 0.6667\n",
      "Epoch 22/50\n",
      "3/3 [==============================] - ETA: 0s - loss: 0.6662 - acc: 0.8617\n",
      "Epoch 22: val_loss improved from 1.39758 to 1.35150, saving model to /content/drive/MyDrive/Colab Notebooks/21/intent/data/model_rnn.h5\n",
      "3/3 [==============================] - 0s 116ms/step - loss: 0.6662 - acc: 0.8617 - val_loss: 1.3515 - val_acc: 0.6667\n",
      "Epoch 23/50\n",
      "3/3 [==============================] - ETA: 0s - loss: 0.5985 - acc: 0.8511\n",
      "Epoch 23: val_loss improved from 1.35150 to 1.32497, saving model to /content/drive/MyDrive/Colab Notebooks/21/intent/data/model_rnn.h5\n",
      "3/3 [==============================] - 0s 103ms/step - loss: 0.5985 - acc: 0.8511 - val_loss: 1.3250 - val_acc: 0.7083\n",
      "Epoch 24/50\n",
      "3/3 [==============================] - ETA: 0s - loss: 0.5787 - acc: 0.8511\n",
      "Epoch 24: val_loss improved from 1.32497 to 1.30420, saving model to /content/drive/MyDrive/Colab Notebooks/21/intent/data/model_rnn.h5\n",
      "3/3 [==============================] - 0s 104ms/step - loss: 0.5787 - acc: 0.8511 - val_loss: 1.3042 - val_acc: 0.6667\n",
      "Epoch 25/50\n",
      "3/3 [==============================] - ETA: 0s - loss: 0.4675 - acc: 0.8936\n",
      "Epoch 25: val_loss did not improve from 1.30420\n",
      "3/3 [==============================] - 0s 59ms/step - loss: 0.4675 - acc: 0.8936 - val_loss: 1.4438 - val_acc: 0.6250\n",
      "Epoch 26/50\n",
      "3/3 [==============================] - ETA: 0s - loss: 0.4595 - acc: 0.9043\n",
      "Epoch 26: val_loss did not improve from 1.30420\n",
      "3/3 [==============================] - 0s 69ms/step - loss: 0.4595 - acc: 0.9043 - val_loss: 1.4461 - val_acc: 0.6250\n",
      "Epoch 27/50\n",
      "2/3 [===================>..........] - ETA: 0s - loss: 0.3491 - acc: 0.9688\n",
      "Epoch 27: val_loss did not improve from 1.30420\n",
      "3/3 [==============================] - 0s 64ms/step - loss: 0.3507 - acc: 0.9468 - val_loss: 1.4362 - val_acc: 0.6667\n",
      "Epoch 28/50\n",
      "2/3 [===================>..........] - ETA: 0s - loss: 0.3171 - acc: 0.9531\n",
      "Epoch 28: val_loss did not improve from 1.30420\n",
      "3/3 [==============================] - 0s 66ms/step - loss: 0.3298 - acc: 0.9468 - val_loss: 1.4886 - val_acc: 0.7083\n",
      "Epoch 29/50\n",
      "3/3 [==============================] - ETA: 0s - loss: 0.2885 - acc: 0.9362\n",
      "Epoch 29: val_loss did not improve from 1.30420\n",
      "3/3 [==============================] - 0s 62ms/step - loss: 0.2885 - acc: 0.9362 - val_loss: 1.5253 - val_acc: 0.7083\n",
      "Epoch 30/50\n",
      "3/3 [==============================] - ETA: 0s - loss: 0.2655 - acc: 0.9681\n",
      "Epoch 30: val_loss did not improve from 1.30420\n",
      "3/3 [==============================] - 0s 61ms/step - loss: 0.2655 - acc: 0.9681 - val_loss: 1.5857 - val_acc: 0.7500\n",
      "Epoch 31/50\n",
      "3/3 [==============================] - ETA: 0s - loss: 0.2074 - acc: 0.9574\n",
      "Epoch 31: val_loss did not improve from 1.30420\n",
      "3/3 [==============================] - 0s 61ms/step - loss: 0.2074 - acc: 0.9574 - val_loss: 1.7033 - val_acc: 0.7500\n",
      "Epoch 32/50\n",
      "3/3 [==============================] - ETA: 0s - loss: 0.1865 - acc: 0.9787\n",
      "Epoch 32: val_loss did not improve from 1.30420\n",
      "3/3 [==============================] - 0s 67ms/step - loss: 0.1865 - acc: 0.9787 - val_loss: 1.7215 - val_acc: 0.7083\n",
      "Epoch 33/50\n",
      "3/3 [==============================] - ETA: 0s - loss: 0.1687 - acc: 0.9787\n",
      "Epoch 33: val_loss did not improve from 1.30420\n",
      "3/3 [==============================] - 0s 60ms/step - loss: 0.1687 - acc: 0.9787 - val_loss: 1.5917 - val_acc: 0.7500\n",
      "Epoch 34/50\n",
      "3/3 [==============================] - ETA: 0s - loss: 0.1632 - acc: 0.9894\n",
      "Epoch 34: val_loss did not improve from 1.30420\n",
      "3/3 [==============================] - 0s 63ms/step - loss: 0.1632 - acc: 0.9894 - val_loss: 1.3227 - val_acc: 0.7083\n",
      "Epoch 35/50\n",
      "3/3 [==============================] - ETA: 0s - loss: 0.1536 - acc: 0.9574\n",
      "Epoch 35: val_loss did not improve from 1.30420\n",
      "3/3 [==============================] - 0s 60ms/step - loss: 0.1536 - acc: 0.9574 - val_loss: 1.6804 - val_acc: 0.7917\n",
      "Epoch 36/50\n",
      "3/3 [==============================] - ETA: 0s - loss: 0.1114 - acc: 0.9787\n",
      "Epoch 36: val_loss did not improve from 1.30420\n",
      "3/3 [==============================] - 0s 75ms/step - loss: 0.1114 - acc: 0.9787 - val_loss: 1.4400 - val_acc: 0.7500\n",
      "Epoch 37/50\n",
      "3/3 [==============================] - ETA: 0s - loss: 0.1126 - acc: 0.9894\n",
      "Epoch 37: val_loss did not improve from 1.30420\n",
      "3/3 [==============================] - 0s 62ms/step - loss: 0.1126 - acc: 0.9894 - val_loss: 1.4642 - val_acc: 0.7500\n",
      "Epoch 38/50\n",
      "2/3 [===================>..........] - ETA: 0s - loss: 0.0767 - acc: 1.0000\n",
      "Epoch 38: val_loss did not improve from 1.30420\n",
      "3/3 [==============================] - 0s 65ms/step - loss: 0.1165 - acc: 0.9894 - val_loss: 1.5905 - val_acc: 0.7917\n",
      "Epoch 39/50\n",
      "3/3 [==============================] - ETA: 0s - loss: 0.1118 - acc: 0.9787\n",
      "Epoch 39: val_loss did not improve from 1.30420\n",
      "3/3 [==============================] - 0s 60ms/step - loss: 0.1118 - acc: 0.9787 - val_loss: 1.7174 - val_acc: 0.7917\n",
      "Epoch 40/50\n",
      "2/3 [===================>..........] - ETA: 0s - loss: 0.1023 - acc: 0.9688\n",
      "Epoch 40: val_loss did not improve from 1.30420\n",
      "3/3 [==============================] - 0s 71ms/step - loss: 0.0975 - acc: 0.9787 - val_loss: 1.7798 - val_acc: 0.7917\n",
      "Epoch 41/50\n",
      "3/3 [==============================] - ETA: 0s - loss: 0.1253 - acc: 0.9574\n",
      "Epoch 41: val_loss did not improve from 1.30420\n",
      "3/3 [==============================] - 0s 62ms/step - loss: 0.1253 - acc: 0.9574 - val_loss: 1.8309 - val_acc: 0.7917\n",
      "Epoch 42/50\n",
      "3/3 [==============================] - ETA: 0s - loss: 0.1043 - acc: 0.9894\n",
      "Epoch 42: val_loss did not improve from 1.30420\n",
      "3/3 [==============================] - 0s 63ms/step - loss: 0.1043 - acc: 0.9894 - val_loss: 1.8415 - val_acc: 0.7917\n",
      "Epoch 43/50\n",
      "3/3 [==============================] - ETA: 0s - loss: 0.0903 - acc: 0.9894\n",
      "Epoch 43: val_loss did not improve from 1.30420\n",
      "3/3 [==============================] - 0s 71ms/step - loss: 0.0903 - acc: 0.9894 - val_loss: 1.7853 - val_acc: 0.8333\n",
      "Epoch 44/50\n",
      "3/3 [==============================] - ETA: 0s - loss: 0.0852 - acc: 0.9894\n",
      "Epoch 44: val_loss did not improve from 1.30420\n",
      "3/3 [==============================] - 0s 63ms/step - loss: 0.0852 - acc: 0.9894 - val_loss: 1.7526 - val_acc: 0.8333\n",
      "Epoch 45/50\n",
      "3/3 [==============================] - ETA: 0s - loss: 0.0649 - acc: 0.9894\n",
      "Epoch 45: val_loss did not improve from 1.30420\n",
      "3/3 [==============================] - 0s 63ms/step - loss: 0.0649 - acc: 0.9894 - val_loss: 1.7397 - val_acc: 0.8333\n",
      "Epoch 46/50\n",
      "2/3 [===================>..........] - ETA: 0s - loss: 0.0602 - acc: 0.9844\n",
      "Epoch 46: val_loss did not improve from 1.30420\n",
      "3/3 [==============================] - 0s 66ms/step - loss: 0.0533 - acc: 0.9894 - val_loss: 1.7034 - val_acc: 0.8333\n",
      "Epoch 47/50\n",
      "3/3 [==============================] - ETA: 0s - loss: 0.0473 - acc: 0.9894\n",
      "Epoch 47: val_loss did not improve from 1.30420\n",
      "3/3 [==============================] - 0s 65ms/step - loss: 0.0473 - acc: 0.9894 - val_loss: 1.6672 - val_acc: 0.7917\n",
      "Epoch 48/50\n",
      "3/3 [==============================] - ETA: 0s - loss: 0.0480 - acc: 0.9894\n",
      "Epoch 48: val_loss did not improve from 1.30420\n",
      "3/3 [==============================] - 0s 62ms/step - loss: 0.0480 - acc: 0.9894 - val_loss: 1.6507 - val_acc: 0.8333\n",
      "Epoch 49/50\n",
      "2/3 [===================>..........] - ETA: 0s - loss: 0.0915 - acc: 0.9844\n",
      "Epoch 49: val_loss did not improve from 1.30420\n",
      "3/3 [==============================] - 0s 71ms/step - loss: 0.0681 - acc: 0.9894 - val_loss: 1.5430 - val_acc: 0.8333\n",
      "Epoch 50/50\n",
      "3/3 [==============================] - ETA: 0s - loss: 0.0482 - acc: 0.9894\n",
      "Epoch 50: val_loss did not improve from 1.30420\n",
      "3/3 [==============================] - 0s 67ms/step - loss: 0.0482 - acc: 0.9894 - val_loss: 1.4586 - val_acc: 0.8333\n"
     ]
    }
   ],
   "source": [
    "model_rnn_filename = 'model_rnn.h5'\n",
    "checkpoint = ModelCheckpoint(PATH+model_rnn_filename, monitor='val_loss', verbose=1, save_best_only=True, mode='min')\n",
    "history = model_rnn.fit(X_train, y_train, epochs=50, validation_data=(X_test, y_test), callbacks=[checkpoint])"
   ]
  },
  {
   "cell_type": "code",
   "execution_count": 36,
   "metadata": {
    "colab": {
     "base_uri": "https://localhost:8080/"
    },
    "id": "KAzG86z6vUE5",
    "outputId": "80255ced-48d6-4328-d377-98a6e7127c42"
   },
   "outputs": [
    {
     "name": "stdout",
     "output_type": "stream",
     "text": [
      "3/3 [==============================] - 0s 13ms/step - loss: 0.0334 - acc: 0.9894\n",
      "Loss: 0.03343779966235161\n",
      "Accuracy: 0.9893617033958435\n"
     ]
    }
   ],
   "source": [
    "loss, accuracy = model_rnn.evaluate(X_train, y_train)\n",
    "\n",
    "print(f'Loss: {loss}')\n",
    "print(f'Accuracy: {accuracy}')"
   ]
  },
  {
   "cell_type": "code",
   "execution_count": 37,
   "metadata": {
    "colab": {
     "base_uri": "https://localhost:8080/",
     "height": 573
    },
    "id": "eoUwecQPgdse",
    "outputId": "cbb37a2d-1ebf-43f2-a4d1-ad57bf4b520f"
   },
   "outputs": [
    {
     "data": {
      "image/png": "[encoded data removed]",
      "text/plain": [
       "<Figure size 432x288 with 1 Axes>"
      ]
     },
     "metadata": {
      "needs_background": "light"
     },
     "output_type": "display_data"
    },
    {
     "data": {
      "image/png": "[encoded data removed]",
      "text/plain": [
       "<Figure size 432x288 with 1 Axes>"
      ]
     },
     "metadata": {
      "needs_background": "light"
     },
     "output_type": "display_data"
    }
   ],
   "source": [
    "# summarize history for accuracy\n",
    "plt.plot(history.history['acc'])\n",
    "plt.plot(history.history['val_acc'])\n",
    "plt.title('model accuracy')\n",
    "plt.ylabel('accuracy')\n",
    "plt.xlabel('epoch')\n",
    "plt.legend(['train', 'test'], loc='lower right')\n",
    "plt.show()\n",
    "# summarize history for loss\n",
    "plt.plot(history.history['loss'])\n",
    "plt.plot(history.history['val_loss'])\n",
    "plt.title('model loss')\n",
    "plt.ylabel('loss')\n",
    "plt.xlabel('epoch')\n",
    "plt.legend(['train', 'test'], loc='upper right')\n",
    "plt.show()"
   ]
  },
  {
   "cell_type": "code",
   "execution_count": 38,
   "metadata": {
    "id": "48Mnnk-Ha9Z1"
   },
   "outputs": [],
   "source": [
    "roc_auc_matrix = roc_auc_matrix.append(pd.Series(data={'model': 'model RNN: Embedding (64), Bidirectional(LSTM(64)), Bidirectional(LSTM(32)), Dense(64), Dropout(0.5), Dense(7)',\n",
    "                                                       'roc_auc': round(roc_auc_score(label_binarize(df['intent'], classes=df['intent'].unique()),\n",
    "                                                                                      label_binarize(df['text'].apply(get_predictions, model=model_rnn), classes=df['intent'].unique()),\n",
    "                                                                                      multi_class='ovr'), 3)\n",
    "                                                       }), ignore_index=True)"
   ]
  },
  {
   "cell_type": "markdown",
   "metadata": {
    "id": "F1skKSNzxjRm"
   },
   "source": [
    "# LSTM model"
   ]
  },
  {
   "cell_type": "code",
   "execution_count": 39,
   "metadata": {
    "id": "lg6WK2xhpCjb"
   },
   "outputs": [],
   "source": [
    "def create_model_lstm(vocab_size, max_length):\n",
    "    model = Sequential()\n",
    "    model.add(Embedding(vocab_size, 64, input_length=max_length, mask_zero=True))\n",
    "    model.add(LSTM(10))\n",
    "    model.add(Dropout(0.5))\n",
    "    model.add(Dense(64, activation='relu'))\n",
    "    model.add(Dropout(0.5))\n",
    "    model.add(Dense(32, activation='relu'))\n",
    "    model.add(Dropout(0.5))\n",
    "    model.add(Dense(7, activation='softmax'))\n",
    "    \n",
    "    return model"
   ]
  },
  {
   "cell_type": "code",
   "execution_count": 40,
   "metadata": {
    "colab": {
     "base_uri": "https://localhost:8080/"
    },
    "id": "HLbHzV4LpqDk",
    "outputId": "1ec7f2df-6b0a-4776-d60f-97d3cb970a10"
   },
   "outputs": [
    {
     "name": "stdout",
     "output_type": "stream",
     "text": [
      "Model: \"sequential_1\"\n",
      "_________________________________________________________________\n",
      " Layer (type)                Output Shape              Param #   \n",
      "=================================================================\n",
      " embedding_1 (Embedding)     (None, 14, 64)            9792      \n",
      "                                                                 \n",
      " lstm_2 (LSTM)               (None, 10)                3000      \n",
      "                                                                 \n",
      " dropout_1 (Dropout)         (None, 10)                0         \n",
      "                                                                 \n",
      " dense_2 (Dense)             (None, 64)                704       \n",
      "                                                                 \n",
      " dropout_2 (Dropout)         (None, 64)                0         \n",
      "                                                                 \n",
      " dense_3 (Dense)             (None, 32)                2080      \n",
      "                                                                 \n",
      " dropout_3 (Dropout)         (None, 32)                0         \n",
      "                                                                 \n",
      " dense_4 (Dense)             (None, 7)                 231       \n",
      "                                                                 \n",
      "=================================================================\n",
      "Total params: 15,807\n",
      "Trainable params: 15,807\n",
      "Non-trainable params: 0\n",
      "_________________________________________________________________\n"
     ]
    }
   ],
   "source": [
    "model_lstm = create_model_lstm(vocab_size, max_length)\n",
    "model_lstm.compile(loss='categorical_crossentropy', optimizer='adam', metrics=['acc'])\n",
    "model_lstm.summary()"
   ]
  },
  {
   "cell_type": "code",
   "execution_count": 41,
   "metadata": {
    "colab": {
     "base_uri": "https://localhost:8080/",
     "height": 856
    },
    "id": "jJMQJntAo4eo",
    "outputId": "469052e3-466d-452a-a32f-f95dd81bbfe9"
   },
   "outputs": [
    {
     "data": {
      "image/png": "[encoded data removed]",
      "text/plain": [
       "<IPython.core.display.Image object>"
      ]
     },
     "execution_count": 41,
     "metadata": {},
     "output_type": "execute_result"
    }
   ],
   "source": [
    "tf.keras.utils.plot_model(model_lstm)"
   ]
  },
  {
   "cell_type": "code",
   "execution_count": 42,
   "metadata": {
    "colab": {
     "base_uri": "https://localhost:8080/"
    },
    "id": "zBMHM1-gpwQ6",
    "outputId": "8ae28222-a109-431b-bd08-2fe406f4169a"
   },
   "outputs": [
    {
     "name": "stdout",
     "output_type": "stream",
     "text": [
      "Epoch 1/100\n",
      "1/3 [=========>....................] - ETA: 9s - loss: 1.9457 - acc: 0.0625\n",
      "Epoch 1: val_loss improved from inf to 1.94453, saving model to /content/drive/MyDrive/Colab Notebooks/21/intent/data/model_lstm.h5\n",
      "3/3 [==============================] - 7s 932ms/step - loss: 1.9440 - acc: 0.0957 - val_loss: 1.9445 - val_acc: 0.1250\n",
      "Epoch 2/100\n",
      "1/3 [=========>....................] - ETA: 0s - loss: 1.9429 - acc: 0.1875\n",
      "Epoch 2: val_loss improved from 1.94453 to 1.94292, saving model to /content/drive/MyDrive/Colab Notebooks/21/intent/data/model_lstm.h5\n",
      "3/3 [==============================] - 0s 52ms/step - loss: 1.9413 - acc: 0.2128 - val_loss: 1.9429 - val_acc: 0.1250\n",
      "Epoch 3/100\n",
      "1/3 [=========>....................] - ETA: 0s - loss: 1.9387 - acc: 0.1562\n",
      "Epoch 3: val_loss improved from 1.94292 to 1.94164, saving model to /content/drive/MyDrive/Colab Notebooks/21/intent/data/model_lstm.h5\n",
      "3/3 [==============================] - 0s 54ms/step - loss: 1.9370 - acc: 0.2021 - val_loss: 1.9416 - val_acc: 0.1250\n",
      "Epoch 4/100\n",
      "1/3 [=========>....................] - ETA: 0s - loss: 1.9352 - acc: 0.2500\n",
      "Epoch 4: val_loss improved from 1.94164 to 1.94003, saving model to /content/drive/MyDrive/Colab Notebooks/21/intent/data/model_lstm.h5\n",
      "3/3 [==============================] - 0s 55ms/step - loss: 1.9319 - acc: 0.2234 - val_loss: 1.9400 - val_acc: 0.1250\n",
      "Epoch 5/100\n",
      "1/3 [=========>....................] - ETA: 0s - loss: 1.9302 - acc: 0.2188\n",
      "Epoch 5: val_loss improved from 1.94003 to 1.93866, saving model to /content/drive/MyDrive/Colab Notebooks/21/intent/data/model_lstm.h5\n",
      "3/3 [==============================] - 0s 61ms/step - loss: 1.9268 - acc: 0.2340 - val_loss: 1.9387 - val_acc: 0.1250\n",
      "Epoch 6/100\n",
      "1/3 [=========>....................] - ETA: 0s - loss: 1.9127 - acc: 0.2812\n",
      "Epoch 6: val_loss improved from 1.93866 to 1.93736, saving model to /content/drive/MyDrive/Colab Notebooks/21/intent/data/model_lstm.h5\n",
      "3/3 [==============================] - 0s 56ms/step - loss: 1.9201 - acc: 0.2553 - val_loss: 1.9374 - val_acc: 0.1250\n",
      "Epoch 7/100\n",
      "1/3 [=========>....................] - ETA: 0s - loss: 1.9154 - acc: 0.2188\n",
      "Epoch 7: val_loss improved from 1.93736 to 1.93585, saving model to /content/drive/MyDrive/Colab Notebooks/21/intent/data/model_lstm.h5\n",
      "3/3 [==============================] - 0s 52ms/step - loss: 1.9200 - acc: 0.1809 - val_loss: 1.9359 - val_acc: 0.1250\n",
      "Epoch 8/100\n",
      "1/3 [=========>....................] - ETA: 0s - loss: 1.9216 - acc: 0.1250\n",
      "Epoch 8: val_loss improved from 1.93585 to 1.93430, saving model to /content/drive/MyDrive/Colab Notebooks/21/intent/data/model_lstm.h5\n",
      "3/3 [==============================] - 0s 58ms/step - loss: 1.9117 - acc: 0.1702 - val_loss: 1.9343 - val_acc: 0.1250\n",
      "Epoch 9/100\n",
      "1/3 [=========>....................] - ETA: 0s - loss: 1.8929 - acc: 0.2812\n",
      "Epoch 9: val_loss improved from 1.93430 to 1.93303, saving model to /content/drive/MyDrive/Colab Notebooks/21/intent/data/model_lstm.h5\n",
      "3/3 [==============================] - 0s 54ms/step - loss: 1.9034 - acc: 0.2340 - val_loss: 1.9330 - val_acc: 0.1250\n",
      "Epoch 10/100\n",
      "1/3 [=========>....................] - ETA: 0s - loss: 1.8998 - acc: 0.1562\n",
      "Epoch 10: val_loss improved from 1.93303 to 1.93192, saving model to /content/drive/MyDrive/Colab Notebooks/21/intent/data/model_lstm.h5\n",
      "3/3 [==============================] - 0s 59ms/step - loss: 1.9007 - acc: 0.1915 - val_loss: 1.9319 - val_acc: 0.1250\n",
      "Epoch 11/100\n",
      "1/3 [=========>....................] - ETA: 0s - loss: 1.9021 - acc: 0.2188\n",
      "Epoch 11: val_loss improved from 1.93192 to 1.93028, saving model to /content/drive/MyDrive/Colab Notebooks/21/intent/data/model_lstm.h5\n",
      "3/3 [==============================] - 0s 52ms/step - loss: 1.8852 - acc: 0.2340 - val_loss: 1.9303 - val_acc: 0.1250\n",
      "Epoch 12/100\n",
      "1/3 [=========>....................] - ETA: 0s - loss: 1.8829 - acc: 0.2188\n",
      "Epoch 12: val_loss improved from 1.93028 to 1.92852, saving model to /content/drive/MyDrive/Colab Notebooks/21/intent/data/model_lstm.h5\n",
      "3/3 [==============================] - 0s 58ms/step - loss: 1.8827 - acc: 0.2340 - val_loss: 1.9285 - val_acc: 0.1250\n",
      "Epoch 13/100\n",
      "1/3 [=========>....................] - ETA: 0s - loss: 1.8700 - acc: 0.3438\n",
      "Epoch 13: val_loss improved from 1.92852 to 1.92629, saving model to /content/drive/MyDrive/Colab Notebooks/21/intent/data/model_lstm.h5\n",
      "3/3 [==============================] - 0s 54ms/step - loss: 1.8727 - acc: 0.2660 - val_loss: 1.9263 - val_acc: 0.1250\n",
      "Epoch 14/100\n",
      "1/3 [=========>....................] - ETA: 0s - loss: 1.8646 - acc: 0.1875\n",
      "Epoch 14: val_loss improved from 1.92629 to 1.92393, saving model to /content/drive/MyDrive/Colab Notebooks/21/intent/data/model_lstm.h5\n",
      "3/3 [==============================] - 0s 52ms/step - loss: 1.8759 - acc: 0.1915 - val_loss: 1.9239 - val_acc: 0.1250\n",
      "Epoch 15/100\n",
      "1/3 [=========>....................] - ETA: 0s - loss: 1.8636 - acc: 0.3125\n",
      "Epoch 15: val_loss improved from 1.92393 to 1.92116, saving model to /content/drive/MyDrive/Colab Notebooks/21/intent/data/model_lstm.h5\n",
      "3/3 [==============================] - 0s 54ms/step - loss: 1.8555 - acc: 0.2447 - val_loss: 1.9212 - val_acc: 0.1250\n",
      "Epoch 16/100\n",
      "1/3 [=========>....................] - ETA: 0s - loss: 1.8478 - acc: 0.1875\n",
      "Epoch 16: val_loss improved from 1.92116 to 1.91752, saving model to /content/drive/MyDrive/Colab Notebooks/21/intent/data/model_lstm.h5\n",
      "3/3 [==============================] - 0s 83ms/step - loss: 1.8429 - acc: 0.2447 - val_loss: 1.9175 - val_acc: 0.1250\n",
      "Epoch 17/100\n",
      "1/3 [=========>....................] - ETA: 0s - loss: 1.8269 - acc: 0.2500\n",
      "Epoch 17: val_loss improved from 1.91752 to 1.91354, saving model to /content/drive/MyDrive/Colab Notebooks/21/intent/data/model_lstm.h5\n",
      "3/3 [==============================] - 0s 56ms/step - loss: 1.8326 - acc: 0.2766 - val_loss: 1.9135 - val_acc: 0.1250\n",
      "Epoch 18/100\n",
      "1/3 [=========>....................] - ETA: 0s - loss: 1.8541 - acc: 0.1562\n",
      "Epoch 18: val_loss improved from 1.91354 to 1.90892, saving model to /content/drive/MyDrive/Colab Notebooks/21/intent/data/model_lstm.h5\n",
      "3/3 [==============================] - 0s 57ms/step - loss: 1.8245 - acc: 0.2340 - val_loss: 1.9089 - val_acc: 0.1250\n",
      "Epoch 19/100\n",
      "1/3 [=========>....................] - ETA: 0s - loss: 1.8110 - acc: 0.2500\n",
      "Epoch 19: val_loss improved from 1.90892 to 1.90343, saving model to /content/drive/MyDrive/Colab Notebooks/21/intent/data/model_lstm.h5\n",
      "3/3 [==============================] - 0s 61ms/step - loss: 1.8078 - acc: 0.2660 - val_loss: 1.9034 - val_acc: 0.1250\n",
      "Epoch 20/100\n",
      "1/3 [=========>....................] - ETA: 0s - loss: 1.7804 - acc: 0.2188\n",
      "Epoch 20: val_loss improved from 1.90343 to 1.89784, saving model to /content/drive/MyDrive/Colab Notebooks/21/intent/data/model_lstm.h5\n",
      "3/3 [==============================] - 0s 57ms/step - loss: 1.7939 - acc: 0.2128 - val_loss: 1.8978 - val_acc: 0.1250\n",
      "Epoch 21/100\n",
      "1/3 [=========>....................] - ETA: 0s - loss: 1.7791 - acc: 0.2188\n",
      "Epoch 21: val_loss improved from 1.89784 to 1.89158, saving model to /content/drive/MyDrive/Colab Notebooks/21/intent/data/model_lstm.h5\n",
      "3/3 [==============================] - 0s 54ms/step - loss: 1.7967 - acc: 0.2447 - val_loss: 1.8916 - val_acc: 0.1250\n",
      "Epoch 22/100\n",
      "1/3 [=========>....................] - ETA: 0s - loss: 1.7614 - acc: 0.2500\n",
      "Epoch 22: val_loss improved from 1.89158 to 1.88523, saving model to /content/drive/MyDrive/Colab Notebooks/21/intent/data/model_lstm.h5\n",
      "3/3 [==============================] - 0s 52ms/step - loss: 1.7791 - acc: 0.2234 - val_loss: 1.8852 - val_acc: 0.1250\n",
      "Epoch 23/100\n",
      "1/3 [=========>....................] - ETA: 0s - loss: 1.7398 - acc: 0.1875\n",
      "Epoch 23: val_loss improved from 1.88523 to 1.87738, saving model to /content/drive/MyDrive/Colab Notebooks/21/intent/data/model_lstm.h5\n",
      "3/3 [==============================] - 0s 53ms/step - loss: 1.7396 - acc: 0.2447 - val_loss: 1.8774 - val_acc: 0.1250\n",
      "Epoch 24/100\n",
      "1/3 [=========>....................] - ETA: 0s - loss: 1.7914 - acc: 0.2500\n",
      "Epoch 24: val_loss improved from 1.87738 to 1.87002, saving model to /content/drive/MyDrive/Colab Notebooks/21/intent/data/model_lstm.h5\n",
      "3/3 [==============================] - 0s 54ms/step - loss: 1.7506 - acc: 0.2447 - val_loss: 1.8700 - val_acc: 0.1250\n",
      "Epoch 25/100\n",
      "1/3 [=========>....................] - ETA: 0s - loss: 1.7518 - acc: 0.2812\n",
      "Epoch 25: val_loss improved from 1.87002 to 1.86311, saving model to /content/drive/MyDrive/Colab Notebooks/21/intent/data/model_lstm.h5\n",
      "3/3 [==============================] - 0s 58ms/step - loss: 1.7157 - acc: 0.2660 - val_loss: 1.8631 - val_acc: 0.1250\n",
      "Epoch 26/100\n",
      "1/3 [=========>....................] - ETA: 0s - loss: 1.6406 - acc: 0.3438\n",
      "Epoch 26: val_loss improved from 1.86311 to 1.85450, saving model to /content/drive/MyDrive/Colab Notebooks/21/intent/data/model_lstm.h5\n",
      "3/3 [==============================] - 0s 56ms/step - loss: 1.6745 - acc: 0.2979 - val_loss: 1.8545 - val_acc: 0.1250\n",
      "Epoch 27/100\n",
      "1/3 [=========>....................] - ETA: 0s - loss: 1.6210 - acc: 0.3125\n",
      "Epoch 27: val_loss improved from 1.85450 to 1.84437, saving model to /content/drive/MyDrive/Colab Notebooks/21/intent/data/model_lstm.h5\n",
      "3/3 [==============================] - 0s 51ms/step - loss: 1.6859 - acc: 0.2979 - val_loss: 1.8444 - val_acc: 0.2083\n",
      "Epoch 28/100\n",
      "1/3 [=========>....................] - ETA: 0s - loss: 1.5883 - acc: 0.3125\n",
      "Epoch 28: val_loss improved from 1.84437 to 1.83363, saving model to /content/drive/MyDrive/Colab Notebooks/21/intent/data/model_lstm.h5\n",
      "3/3 [==============================] - 0s 59ms/step - loss: 1.6304 - acc: 0.2660 - val_loss: 1.8336 - val_acc: 0.2083\n",
      "Epoch 29/100\n",
      "1/3 [=========>....................] - ETA: 0s - loss: 1.7132 - acc: 0.2500\n",
      "Epoch 29: val_loss improved from 1.83363 to 1.82300, saving model to /content/drive/MyDrive/Colab Notebooks/21/intent/data/model_lstm.h5\n",
      "3/3 [==============================] - 0s 52ms/step - loss: 1.6236 - acc: 0.2979 - val_loss: 1.8230 - val_acc: 0.2500\n",
      "Epoch 30/100\n",
      "1/3 [=========>....................] - ETA: 0s - loss: 1.5351 - acc: 0.2812\n",
      "Epoch 30: val_loss improved from 1.82300 to 1.81284, saving model to /content/drive/MyDrive/Colab Notebooks/21/intent/data/model_lstm.h5\n",
      "3/3 [==============================] - 0s 53ms/step - loss: 1.6098 - acc: 0.2660 - val_loss: 1.8128 - val_acc: 0.2500\n",
      "Epoch 31/100\n",
      "1/3 [=========>....................] - ETA: 0s - loss: 1.5874 - acc: 0.2188\n",
      "Epoch 31: val_loss improved from 1.81284 to 1.80065, saving model to /content/drive/MyDrive/Colab Notebooks/21/intent/data/model_lstm.h5\n",
      "3/3 [==============================] - 0s 53ms/step - loss: 1.6377 - acc: 0.2766 - val_loss: 1.8007 - val_acc: 0.2917\n",
      "Epoch 32/100\n",
      "1/3 [=========>....................] - ETA: 0s - loss: 1.6394 - acc: 0.1875\n",
      "Epoch 32: val_loss improved from 1.80065 to 1.78678, saving model to /content/drive/MyDrive/Colab Notebooks/21/intent/data/model_lstm.h5\n",
      "3/3 [==============================] - 0s 52ms/step - loss: 1.5717 - acc: 0.3298 - val_loss: 1.7868 - val_acc: 0.2917\n",
      "Epoch 33/100\n",
      "1/3 [=========>....................] - ETA: 0s - loss: 1.6784 - acc: 0.2188\n",
      "Epoch 33: val_loss improved from 1.78678 to 1.77053, saving model to /content/drive/MyDrive/Colab Notebooks/21/intent/data/model_lstm.h5\n",
      "3/3 [==============================] - 0s 59ms/step - loss: 1.5954 - acc: 0.2660 - val_loss: 1.7705 - val_acc: 0.2917\n",
      "Epoch 34/100\n",
      "1/3 [=========>....................] - ETA: 0s - loss: 1.5775 - acc: 0.3125\n",
      "Epoch 34: val_loss improved from 1.77053 to 1.75688, saving model to /content/drive/MyDrive/Colab Notebooks/21/intent/data/model_lstm.h5\n",
      "3/3 [==============================] - 0s 53ms/step - loss: 1.5314 - acc: 0.4043 - val_loss: 1.7569 - val_acc: 0.2917\n",
      "Epoch 35/100\n",
      "1/3 [=========>....................] - ETA: 0s - loss: 1.5881 - acc: 0.2812\n",
      "Epoch 35: val_loss improved from 1.75688 to 1.74245, saving model to /content/drive/MyDrive/Colab Notebooks/21/intent/data/model_lstm.h5\n",
      "3/3 [==============================] - 0s 56ms/step - loss: 1.5425 - acc: 0.3404 - val_loss: 1.7424 - val_acc: 0.2917\n",
      "Epoch 36/100\n",
      "1/3 [=========>....................] - ETA: 0s - loss: 1.7356 - acc: 0.2500\n",
      "Epoch 36: val_loss improved from 1.74245 to 1.72861, saving model to /content/drive/MyDrive/Colab Notebooks/21/intent/data/model_lstm.h5\n",
      "3/3 [==============================] - 0s 74ms/step - loss: 1.5120 - acc: 0.3298 - val_loss: 1.7286 - val_acc: 0.2917\n",
      "Epoch 37/100\n",
      "1/3 [=========>....................] - ETA: 0s - loss: 1.6152 - acc: 0.3750\n",
      "Epoch 37: val_loss improved from 1.72861 to 1.71703, saving model to /content/drive/MyDrive/Colab Notebooks/21/intent/data/model_lstm.h5\n",
      "3/3 [==============================] - 0s 56ms/step - loss: 1.4899 - acc: 0.4043 - val_loss: 1.7170 - val_acc: 0.3333\n",
      "Epoch 38/100\n",
      "1/3 [=========>....................] - ETA: 0s - loss: 1.4222 - acc: 0.5312\n",
      "Epoch 38: val_loss improved from 1.71703 to 1.70897, saving model to /content/drive/MyDrive/Colab Notebooks/21/intent/data/model_lstm.h5\n",
      "3/3 [==============================] - 0s 58ms/step - loss: 1.4269 - acc: 0.4787 - val_loss: 1.7090 - val_acc: 0.3333\n",
      "Epoch 39/100\n",
      "1/3 [=========>....................] - ETA: 0s - loss: 1.4431 - acc: 0.5000\n",
      "Epoch 39: val_loss improved from 1.70897 to 1.70099, saving model to /content/drive/MyDrive/Colab Notebooks/21/intent/data/model_lstm.h5\n",
      "3/3 [==============================] - 0s 54ms/step - loss: 1.4756 - acc: 0.4149 - val_loss: 1.7010 - val_acc: 0.3333\n",
      "Epoch 40/100\n",
      "1/3 [=========>....................] - ETA: 0s - loss: 1.3012 - acc: 0.5312\n",
      "Epoch 40: val_loss improved from 1.70099 to 1.69406, saving model to /content/drive/MyDrive/Colab Notebooks/21/intent/data/model_lstm.h5\n",
      "3/3 [==============================] - 0s 58ms/step - loss: 1.3713 - acc: 0.5000 - val_loss: 1.6941 - val_acc: 0.3333\n",
      "Epoch 41/100\n",
      "1/3 [=========>....................] - ETA: 0s - loss: 1.5890 - acc: 0.3750\n",
      "Epoch 41: val_loss improved from 1.69406 to 1.68754, saving model to /content/drive/MyDrive/Colab Notebooks/21/intent/data/model_lstm.h5\n",
      "3/3 [==============================] - 0s 55ms/step - loss: 1.4274 - acc: 0.3830 - val_loss: 1.6875 - val_acc: 0.3750\n",
      "Epoch 42/100\n",
      "1/3 [=========>....................] - ETA: 0s - loss: 1.5581 - acc: 0.3438\n",
      "Epoch 42: val_loss improved from 1.68754 to 1.67681, saving model to /content/drive/MyDrive/Colab Notebooks/21/intent/data/model_lstm.h5\n",
      "3/3 [==============================] - 0s 52ms/step - loss: 1.3639 - acc: 0.5106 - val_loss: 1.6768 - val_acc: 0.3333\n",
      "Epoch 43/100\n",
      "1/3 [=========>....................] - ETA: 0s - loss: 1.5001 - acc: 0.2188\n",
      "Epoch 43: val_loss improved from 1.67681 to 1.66269, saving model to /content/drive/MyDrive/Colab Notebooks/21/intent/data/model_lstm.h5\n",
      "3/3 [==============================] - 0s 68ms/step - loss: 1.3944 - acc: 0.3511 - val_loss: 1.6627 - val_acc: 0.3333\n",
      "Epoch 44/100\n",
      "1/3 [=========>....................] - ETA: 0s - loss: 1.3517 - acc: 0.4688\n",
      "Epoch 44: val_loss improved from 1.66269 to 1.64944, saving model to /content/drive/MyDrive/Colab Notebooks/21/intent/data/model_lstm.h5\n",
      "3/3 [==============================] - 0s 53ms/step - loss: 1.3526 - acc: 0.4468 - val_loss: 1.6494 - val_acc: 0.3750\n",
      "Epoch 45/100\n",
      "1/3 [=========>....................] - ETA: 0s - loss: 1.2111 - acc: 0.5938\n",
      "Epoch 45: val_loss improved from 1.64944 to 1.63657, saving model to /content/drive/MyDrive/Colab Notebooks/21/intent/data/model_lstm.h5\n",
      "3/3 [==============================] - 0s 54ms/step - loss: 1.2816 - acc: 0.4894 - val_loss: 1.6366 - val_acc: 0.4167\n",
      "Epoch 46/100\n",
      "1/3 [=========>....................] - ETA: 0s - loss: 1.4162 - acc: 0.3438\n",
      "Epoch 46: val_loss improved from 1.63657 to 1.62475, saving model to /content/drive/MyDrive/Colab Notebooks/21/intent/data/model_lstm.h5\n",
      "3/3 [==============================] - 0s 62ms/step - loss: 1.2975 - acc: 0.4894 - val_loss: 1.6247 - val_acc: 0.4167\n",
      "Epoch 47/100\n",
      "1/3 [=========>....................] - ETA: 0s - loss: 1.4404 - acc: 0.4688\n",
      "Epoch 47: val_loss improved from 1.62475 to 1.60643, saving model to /content/drive/MyDrive/Colab Notebooks/21/intent/data/model_lstm.h5\n",
      "3/3 [==============================] - 0s 66ms/step - loss: 1.3279 - acc: 0.5106 - val_loss: 1.6064 - val_acc: 0.4167\n",
      "Epoch 48/100\n",
      "1/3 [=========>....................] - ETA: 0s - loss: 1.2691 - acc: 0.4062\n",
      "Epoch 48: val_loss improved from 1.60643 to 1.59565, saving model to /content/drive/MyDrive/Colab Notebooks/21/intent/data/model_lstm.h5\n",
      "3/3 [==============================] - 0s 53ms/step - loss: 1.2741 - acc: 0.4255 - val_loss: 1.5957 - val_acc: 0.4167\n",
      "Epoch 49/100\n",
      "1/3 [=========>....................] - ETA: 0s - loss: 1.0873 - acc: 0.6250\n",
      "Epoch 49: val_loss improved from 1.59565 to 1.58575, saving model to /content/drive/MyDrive/Colab Notebooks/21/intent/data/model_lstm.h5\n",
      "3/3 [==============================] - 0s 55ms/step - loss: 1.2128 - acc: 0.5851 - val_loss: 1.5858 - val_acc: 0.4167\n",
      "Epoch 50/100\n",
      "1/3 [=========>....................] - ETA: 0s - loss: 1.5173 - acc: 0.3438\n",
      "Epoch 50: val_loss improved from 1.58575 to 1.57825, saving model to /content/drive/MyDrive/Colab Notebooks/21/intent/data/model_lstm.h5\n",
      "3/3 [==============================] - 0s 52ms/step - loss: 1.2392 - acc: 0.4894 - val_loss: 1.5782 - val_acc: 0.4167\n",
      "Epoch 51/100\n",
      "1/3 [=========>....................] - ETA: 0s - loss: 1.1805 - acc: 0.5000\n",
      "Epoch 51: val_loss improved from 1.57825 to 1.56037, saving model to /content/drive/MyDrive/Colab Notebooks/21/intent/data/model_lstm.h5\n",
      "3/3 [==============================] - 0s 58ms/step - loss: 1.2050 - acc: 0.5426 - val_loss: 1.5604 - val_acc: 0.4583\n",
      "Epoch 52/100\n",
      "1/3 [=========>....................] - ETA: 0s - loss: 1.2169 - acc: 0.4375\n",
      "Epoch 52: val_loss improved from 1.56037 to 1.54047, saving model to /content/drive/MyDrive/Colab Notebooks/21/intent/data/model_lstm.h5\n",
      "3/3 [==============================] - 0s 52ms/step - loss: 1.1456 - acc: 0.5532 - val_loss: 1.5405 - val_acc: 0.4167\n",
      "Epoch 53/100\n",
      "1/3 [=========>....................] - ETA: 0s - loss: 1.0264 - acc: 0.6250\n",
      "Epoch 53: val_loss improved from 1.54047 to 1.52994, saving model to /content/drive/MyDrive/Colab Notebooks/21/intent/data/model_lstm.h5\n",
      "3/3 [==============================] - 0s 53ms/step - loss: 1.2130 - acc: 0.5426 - val_loss: 1.5299 - val_acc: 0.4583\n",
      "Epoch 54/100\n",
      "1/3 [=========>....................] - ETA: 0s - loss: 1.0731 - acc: 0.5938\n",
      "Epoch 54: val_loss improved from 1.52994 to 1.50445, saving model to /content/drive/MyDrive/Colab Notebooks/21/intent/data/model_lstm.h5\n",
      "3/3 [==============================] - 0s 62ms/step - loss: 1.2111 - acc: 0.4787 - val_loss: 1.5045 - val_acc: 0.4583\n",
      "Epoch 55/100\n",
      "1/3 [=========>....................] - ETA: 0s - loss: 1.1376 - acc: 0.5938\n",
      "Epoch 55: val_loss improved from 1.50445 to 1.47978, saving model to /content/drive/MyDrive/Colab Notebooks/21/intent/data/model_lstm.h5\n",
      "3/3 [==============================] - 0s 58ms/step - loss: 1.1674 - acc: 0.5213 - val_loss: 1.4798 - val_acc: 0.4583\n",
      "Epoch 56/100\n",
      "1/3 [=========>....................] - ETA: 0s - loss: 1.2064 - acc: 0.5000\n",
      "Epoch 56: val_loss improved from 1.47978 to 1.45936, saving model to /content/drive/MyDrive/Colab Notebooks/21/intent/data/model_lstm.h5\n",
      "3/3 [==============================] - 0s 59ms/step - loss: 1.1311 - acc: 0.5638 - val_loss: 1.4594 - val_acc: 0.4583\n",
      "Epoch 57/100\n",
      "1/3 [=========>....................] - ETA: 0s - loss: 1.0373 - acc: 0.6562\n",
      "Epoch 57: val_loss improved from 1.45936 to 1.43728, saving model to /content/drive/MyDrive/Colab Notebooks/21/intent/data/model_lstm.h5\n",
      "3/3 [==============================] - 0s 53ms/step - loss: 1.1892 - acc: 0.5319 - val_loss: 1.4373 - val_acc: 0.4583\n",
      "Epoch 58/100\n",
      "1/3 [=========>....................] - ETA: 0s - loss: 1.0989 - acc: 0.5312\n",
      "Epoch 58: val_loss improved from 1.43728 to 1.41882, saving model to /content/drive/MyDrive/Colab Notebooks/21/intent/data/model_lstm.h5\n",
      "3/3 [==============================] - 0s 54ms/step - loss: 1.1359 - acc: 0.5106 - val_loss: 1.4188 - val_acc: 0.4583\n",
      "Epoch 59/100\n",
      "1/3 [=========>....................] - ETA: 0s - loss: 1.0736 - acc: 0.4688\n",
      "Epoch 59: val_loss improved from 1.41882 to 1.41612, saving model to /content/drive/MyDrive/Colab Notebooks/21/intent/data/model_lstm.h5\n",
      "3/3 [==============================] - 0s 54ms/step - loss: 1.0794 - acc: 0.5426 - val_loss: 1.4161 - val_acc: 0.4583\n",
      "Epoch 60/100\n",
      "1/3 [=========>....................] - ETA: 0s - loss: 1.1278 - acc: 0.5938\n",
      "Epoch 60: val_loss improved from 1.41612 to 1.41475, saving model to /content/drive/MyDrive/Colab Notebooks/21/intent/data/model_lstm.h5\n",
      "3/3 [==============================] - 0s 50ms/step - loss: 1.0458 - acc: 0.5851 - val_loss: 1.4147 - val_acc: 0.4583\n",
      "Epoch 61/100\n",
      "1/3 [=========>....................] - ETA: 0s - loss: 1.1614 - acc: 0.5312\n",
      "Epoch 61: val_loss improved from 1.41475 to 1.40971, saving model to /content/drive/MyDrive/Colab Notebooks/21/intent/data/model_lstm.h5\n",
      "3/3 [==============================] - 0s 56ms/step - loss: 1.0626 - acc: 0.5319 - val_loss: 1.4097 - val_acc: 0.5000\n",
      "Epoch 62/100\n",
      "1/3 [=========>....................] - ETA: 0s - loss: 1.2809 - acc: 0.4375\n",
      "Epoch 62: val_loss improved from 1.40971 to 1.40071, saving model to /content/drive/MyDrive/Colab Notebooks/21/intent/data/model_lstm.h5\n",
      "3/3 [==============================] - 0s 55ms/step - loss: 1.0126 - acc: 0.5638 - val_loss: 1.4007 - val_acc: 0.5000\n",
      "Epoch 63/100\n",
      "1/3 [=========>....................] - ETA: 0s - loss: 1.1365 - acc: 0.6250\n",
      "Epoch 63: val_loss improved from 1.40071 to 1.37038, saving model to /content/drive/MyDrive/Colab Notebooks/21/intent/data/model_lstm.h5\n",
      "3/3 [==============================] - 0s 57ms/step - loss: 1.0314 - acc: 0.5532 - val_loss: 1.3704 - val_acc: 0.5000\n",
      "Epoch 64/100\n",
      "1/3 [=========>....................] - ETA: 0s - loss: 1.0024 - acc: 0.6562\n",
      "Epoch 64: val_loss improved from 1.37038 to 1.34479, saving model to /content/drive/MyDrive/Colab Notebooks/21/intent/data/model_lstm.h5\n",
      "3/3 [==============================] - 0s 55ms/step - loss: 0.9589 - acc: 0.6489 - val_loss: 1.3448 - val_acc: 0.5000\n",
      "Epoch 65/100\n",
      "1/3 [=========>....................] - ETA: 0s - loss: 1.1209 - acc: 0.5000\n",
      "Epoch 65: val_loss improved from 1.34479 to 1.32585, saving model to /content/drive/MyDrive/Colab Notebooks/21/intent/data/model_lstm.h5\n",
      "3/3 [==============================] - 0s 53ms/step - loss: 1.0224 - acc: 0.5426 - val_loss: 1.3258 - val_acc: 0.5000\n",
      "Epoch 66/100\n",
      "1/3 [=========>....................] - ETA: 0s - loss: 0.8854 - acc: 0.6250\n",
      "Epoch 66: val_loss improved from 1.32585 to 1.31958, saving model to /content/drive/MyDrive/Colab Notebooks/21/intent/data/model_lstm.h5\n",
      "3/3 [==============================] - 0s 56ms/step - loss: 1.0042 - acc: 0.5957 - val_loss: 1.3196 - val_acc: 0.5000\n",
      "Epoch 67/100\n",
      "1/3 [=========>....................] - ETA: 0s - loss: 0.8986 - acc: 0.5938\n",
      "Epoch 67: val_loss improved from 1.31958 to 1.31615, saving model to /content/drive/MyDrive/Colab Notebooks/21/intent/data/model_lstm.h5\n",
      "3/3 [==============================] - 0s 55ms/step - loss: 0.8932 - acc: 0.6489 - val_loss: 1.3162 - val_acc: 0.5000\n",
      "Epoch 68/100\n",
      "1/3 [=========>....................] - ETA: 0s - loss: 0.9732 - acc: 0.6250\n",
      "Epoch 68: val_loss improved from 1.31615 to 1.30794, saving model to /content/drive/MyDrive/Colab Notebooks/21/intent/data/model_lstm.h5\n",
      "3/3 [==============================] - 0s 52ms/step - loss: 0.9227 - acc: 0.6489 - val_loss: 1.3079 - val_acc: 0.5000\n",
      "Epoch 69/100\n",
      "1/3 [=========>....................] - ETA: 0s - loss: 0.7689 - acc: 0.7812\n",
      "Epoch 69: val_loss improved from 1.30794 to 1.29727, saving model to /content/drive/MyDrive/Colab Notebooks/21/intent/data/model_lstm.h5\n",
      "3/3 [==============================] - 0s 53ms/step - loss: 1.0117 - acc: 0.6489 - val_loss: 1.2973 - val_acc: 0.5000\n",
      "Epoch 70/100\n",
      "1/3 [=========>....................] - ETA: 0s - loss: 1.0232 - acc: 0.5312\n",
      "Epoch 70: val_loss did not improve from 1.29727\n",
      "3/3 [==============================] - 0s 34ms/step - loss: 0.8890 - acc: 0.6596 - val_loss: 1.2981 - val_acc: 0.5000\n",
      "Epoch 71/100\n",
      "1/3 [=========>....................] - ETA: 0s - loss: 0.9757 - acc: 0.5312\n",
      "Epoch 71: val_loss improved from 1.29727 to 1.28517, saving model to /content/drive/MyDrive/Colab Notebooks/21/intent/data/model_lstm.h5\n",
      "3/3 [==============================] - 0s 59ms/step - loss: 0.9449 - acc: 0.5745 - val_loss: 1.2852 - val_acc: 0.5000\n",
      "Epoch 72/100\n",
      "1/3 [=========>....................] - ETA: 0s - loss: 0.6244 - acc: 0.7188\n",
      "Epoch 72: val_loss improved from 1.28517 to 1.26469, saving model to /content/drive/MyDrive/Colab Notebooks/21/intent/data/model_lstm.h5\n",
      "3/3 [==============================] - 0s 61ms/step - loss: 0.8247 - acc: 0.6915 - val_loss: 1.2647 - val_acc: 0.5417\n",
      "Epoch 73/100\n",
      "1/3 [=========>....................] - ETA: 0s - loss: 1.2537 - acc: 0.4688\n",
      "Epoch 73: val_loss improved from 1.26469 to 1.24032, saving model to /content/drive/MyDrive/Colab Notebooks/21/intent/data/model_lstm.h5\n",
      "3/3 [==============================] - 0s 62ms/step - loss: 0.9162 - acc: 0.6277 - val_loss: 1.2403 - val_acc: 0.5417\n",
      "Epoch 74/100\n",
      "1/3 [=========>....................] - ETA: 0s - loss: 0.8769 - acc: 0.6250\n",
      "Epoch 74: val_loss improved from 1.24032 to 1.21822, saving model to /content/drive/MyDrive/Colab Notebooks/21/intent/data/model_lstm.h5\n",
      "3/3 [==============================] - 0s 58ms/step - loss: 0.9207 - acc: 0.6277 - val_loss: 1.2182 - val_acc: 0.4583\n",
      "Epoch 75/100\n",
      "1/3 [=========>....................] - ETA: 0s - loss: 0.9162 - acc: 0.6250\n",
      "Epoch 75: val_loss improved from 1.21822 to 1.18136, saving model to /content/drive/MyDrive/Colab Notebooks/21/intent/data/model_lstm.h5\n",
      "3/3 [==============================] - 0s 60ms/step - loss: 0.8564 - acc: 0.7021 - val_loss: 1.1814 - val_acc: 0.5000\n",
      "Epoch 76/100\n",
      "1/3 [=========>....................] - ETA: 0s - loss: 0.7218 - acc: 0.7812\n",
      "Epoch 76: val_loss improved from 1.18136 to 1.15673, saving model to /content/drive/MyDrive/Colab Notebooks/21/intent/data/model_lstm.h5\n",
      "3/3 [==============================] - 0s 57ms/step - loss: 0.7409 - acc: 0.7447 - val_loss: 1.1567 - val_acc: 0.5417\n",
      "Epoch 77/100\n",
      "1/3 [=========>....................] - ETA: 0s - loss: 0.9166 - acc: 0.6250\n",
      "Epoch 77: val_loss improved from 1.15673 to 1.14503, saving model to /content/drive/MyDrive/Colab Notebooks/21/intent/data/model_lstm.h5\n",
      "3/3 [==============================] - 0s 63ms/step - loss: 0.8576 - acc: 0.6596 - val_loss: 1.1450 - val_acc: 0.6250\n",
      "Epoch 78/100\n",
      "1/3 [=========>....................] - ETA: 0s - loss: 0.9315 - acc: 0.6562\n",
      "Epoch 78: val_loss improved from 1.14503 to 1.14020, saving model to /content/drive/MyDrive/Colab Notebooks/21/intent/data/model_lstm.h5\n",
      "3/3 [==============================] - 0s 58ms/step - loss: 0.9052 - acc: 0.6489 - val_loss: 1.1402 - val_acc: 0.6250\n",
      "Epoch 79/100\n",
      "1/3 [=========>....................] - ETA: 0s - loss: 0.8728 - acc: 0.5938\n",
      "Epoch 79: val_loss improved from 1.14020 to 1.13877, saving model to /content/drive/MyDrive/Colab Notebooks/21/intent/data/model_lstm.h5\n",
      "3/3 [==============================] - 0s 66ms/step - loss: 0.8606 - acc: 0.6489 - val_loss: 1.1388 - val_acc: 0.5833\n",
      "Epoch 80/100\n",
      "1/3 [=========>....................] - ETA: 0s - loss: 0.8191 - acc: 0.6562\n",
      "Epoch 80: val_loss improved from 1.13877 to 1.13874, saving model to /content/drive/MyDrive/Colab Notebooks/21/intent/data/model_lstm.h5\n",
      "3/3 [==============================] - 0s 61ms/step - loss: 0.8646 - acc: 0.6596 - val_loss: 1.1387 - val_acc: 0.6250\n",
      "Epoch 81/100\n",
      "1/3 [=========>....................] - ETA: 0s - loss: 0.9288 - acc: 0.6562\n",
      "Epoch 81: val_loss improved from 1.13874 to 1.12306, saving model to /content/drive/MyDrive/Colab Notebooks/21/intent/data/model_lstm.h5\n",
      "3/3 [==============================] - 0s 54ms/step - loss: 0.8685 - acc: 0.6915 - val_loss: 1.1231 - val_acc: 0.6250\n",
      "Epoch 82/100\n",
      "1/3 [=========>....................] - ETA: 0s - loss: 0.5856 - acc: 0.8750\n",
      "Epoch 82: val_loss improved from 1.12306 to 1.09870, saving model to /content/drive/MyDrive/Colab Notebooks/21/intent/data/model_lstm.h5\n",
      "3/3 [==============================] - 0s 57ms/step - loss: 0.7536 - acc: 0.7660 - val_loss: 1.0987 - val_acc: 0.6250\n",
      "Epoch 83/100\n",
      "1/3 [=========>....................] - ETA: 0s - loss: 0.7704 - acc: 0.7188\n",
      "Epoch 83: val_loss improved from 1.09870 to 1.08206, saving model to /content/drive/MyDrive/Colab Notebooks/21/intent/data/model_lstm.h5\n",
      "3/3 [==============================] - 0s 54ms/step - loss: 0.8223 - acc: 0.7340 - val_loss: 1.0821 - val_acc: 0.6667\n",
      "Epoch 84/100\n",
      "1/3 [=========>....................] - ETA: 0s - loss: 1.0280 - acc: 0.5625\n",
      "Epoch 84: val_loss improved from 1.08206 to 1.07335, saving model to /content/drive/MyDrive/Colab Notebooks/21/intent/data/model_lstm.h5\n",
      "3/3 [==============================] - 0s 59ms/step - loss: 0.8248 - acc: 0.6702 - val_loss: 1.0734 - val_acc: 0.6667\n",
      "Epoch 85/100\n",
      "1/3 [=========>....................] - ETA: 0s - loss: 0.6918 - acc: 0.7812\n",
      "Epoch 85: val_loss improved from 1.07335 to 1.05512, saving model to /content/drive/MyDrive/Colab Notebooks/21/intent/data/model_lstm.h5\n",
      "3/3 [==============================] - 0s 54ms/step - loss: 0.8203 - acc: 0.7234 - val_loss: 1.0551 - val_acc: 0.6667\n",
      "Epoch 86/100\n",
      "1/3 [=========>....................] - ETA: 0s - loss: 0.6237 - acc: 0.8438\n",
      "Epoch 86: val_loss improved from 1.05512 to 1.04759, saving model to /content/drive/MyDrive/Colab Notebooks/21/intent/data/model_lstm.h5\n",
      "3/3 [==============================] - 0s 56ms/step - loss: 0.7377 - acc: 0.8085 - val_loss: 1.0476 - val_acc: 0.6667\n",
      "Epoch 87/100\n",
      "1/3 [=========>....................] - ETA: 0s - loss: 0.8170 - acc: 0.6875\n",
      "Epoch 87: val_loss improved from 1.04759 to 1.03850, saving model to /content/drive/MyDrive/Colab Notebooks/21/intent/data/model_lstm.h5\n",
      "3/3 [==============================] - 0s 59ms/step - loss: 0.8099 - acc: 0.6915 - val_loss: 1.0385 - val_acc: 0.6667\n",
      "Epoch 88/100\n",
      "1/3 [=========>....................] - ETA: 0s - loss: 0.8363 - acc: 0.6562\n",
      "Epoch 88: val_loss did not improve from 1.03850\n",
      "3/3 [==============================] - 0s 27ms/step - loss: 0.7208 - acc: 0.7128 - val_loss: 1.0502 - val_acc: 0.5833\n",
      "Epoch 89/100\n",
      "1/3 [=========>....................] - ETA: 0s - loss: 0.7394 - acc: 0.6875\n",
      "Epoch 89: val_loss did not improve from 1.03850\n",
      "3/3 [==============================] - 0s 26ms/step - loss: 0.7169 - acc: 0.7128 - val_loss: 1.0409 - val_acc: 0.6250\n",
      "Epoch 90/100\n",
      "1/3 [=========>....................] - ETA: 0s - loss: 0.6796 - acc: 0.6562\n",
      "Epoch 90: val_loss improved from 1.03850 to 1.02305, saving model to /content/drive/MyDrive/Colab Notebooks/21/intent/data/model_lstm.h5\n",
      "3/3 [==============================] - 0s 52ms/step - loss: 0.7506 - acc: 0.7234 - val_loss: 1.0231 - val_acc: 0.6667\n",
      "Epoch 91/100\n",
      "1/3 [=========>....................] - ETA: 0s - loss: 0.7452 - acc: 0.6875\n",
      "Epoch 91: val_loss improved from 1.02305 to 0.97995, saving model to /content/drive/MyDrive/Colab Notebooks/21/intent/data/model_lstm.h5\n",
      "3/3 [==============================] - 0s 57ms/step - loss: 0.7732 - acc: 0.6915 - val_loss: 0.9800 - val_acc: 0.6667\n",
      "Epoch 92/100\n",
      "1/3 [=========>....................] - ETA: 0s - loss: 0.6209 - acc: 0.7812\n",
      "Epoch 92: val_loss improved from 0.97995 to 0.95988, saving model to /content/drive/MyDrive/Colab Notebooks/21/intent/data/model_lstm.h5\n",
      "3/3 [==============================] - 0s 55ms/step - loss: 0.8748 - acc: 0.6489 - val_loss: 0.9599 - val_acc: 0.6667\n",
      "Epoch 93/100\n",
      "1/3 [=========>....................] - ETA: 0s - loss: 0.8733 - acc: 0.6875\n",
      "Epoch 93: val_loss improved from 0.95988 to 0.93728, saving model to /content/drive/MyDrive/Colab Notebooks/21/intent/data/model_lstm.h5\n",
      "3/3 [==============================] - 0s 57ms/step - loss: 0.7074 - acc: 0.7660 - val_loss: 0.9373 - val_acc: 0.7083\n",
      "Epoch 94/100\n",
      "1/3 [=========>....................] - ETA: 0s - loss: 0.3827 - acc: 0.8438\n",
      "Epoch 94: val_loss improved from 0.93728 to 0.90298, saving model to /content/drive/MyDrive/Colab Notebooks/21/intent/data/model_lstm.h5\n",
      "3/3 [==============================] - 0s 58ms/step - loss: 0.6661 - acc: 0.7660 - val_loss: 0.9030 - val_acc: 0.7083\n",
      "Epoch 95/100\n",
      "1/3 [=========>....................] - ETA: 0s - loss: 0.7078 - acc: 0.6875\n",
      "Epoch 95: val_loss improved from 0.90298 to 0.90118, saving model to /content/drive/MyDrive/Colab Notebooks/21/intent/data/model_lstm.h5\n",
      "3/3 [==============================] - 0s 50ms/step - loss: 0.6583 - acc: 0.7128 - val_loss: 0.9012 - val_acc: 0.7083\n",
      "Epoch 96/100\n",
      "1/3 [=========>....................] - ETA: 0s - loss: 0.6853 - acc: 0.7188\n",
      "Epoch 96: val_loss did not improve from 0.90118\n",
      "3/3 [==============================] - 0s 32ms/step - loss: 0.6779 - acc: 0.7128 - val_loss: 0.9208 - val_acc: 0.7083\n",
      "Epoch 97/100\n",
      "1/3 [=========>....................] - ETA: 0s - loss: 0.5350 - acc: 0.7500\n",
      "Epoch 97: val_loss did not improve from 0.90118\n",
      "3/3 [==============================] - 0s 28ms/step - loss: 0.5942 - acc: 0.7766 - val_loss: 0.9558 - val_acc: 0.7500\n",
      "Epoch 98/100\n",
      "1/3 [=========>....................] - ETA: 0s - loss: 0.7292 - acc: 0.7812\n",
      "Epoch 98: val_loss did not improve from 0.90118\n",
      "3/3 [==============================] - 0s 29ms/step - loss: 0.6859 - acc: 0.7660 - val_loss: 0.9492 - val_acc: 0.7500\n",
      "Epoch 99/100\n",
      "1/3 [=========>....................] - ETA: 0s - loss: 0.6021 - acc: 0.7188\n",
      "Epoch 99: val_loss did not improve from 0.90118\n",
      "3/3 [==============================] - 0s 26ms/step - loss: 0.6593 - acc: 0.7660 - val_loss: 0.9230 - val_acc: 0.7500\n",
      "Epoch 100/100\n",
      "1/3 [=========>....................] - ETA: 0s - loss: 0.8120 - acc: 0.6562\n",
      "Epoch 100: val_loss improved from 0.90118 to 0.89497, saving model to /content/drive/MyDrive/Colab Notebooks/21/intent/data/model_lstm.h5\n",
      "3/3 [==============================] - 0s 54ms/step - loss: 0.5978 - acc: 0.7766 - val_loss: 0.8950 - val_acc: 0.7500\n"
     ]
    }
   ],
   "source": [
    "model_lstm_filename = 'model_lstm.h5'\n",
    "checkpoint = ModelCheckpoint(PATH+model_lstm_filename, monitor='val_loss', verbose=1, save_best_only=True, mode='min')\n",
    "history = model_lstm.fit(X_train, y_train, epochs=100, validation_data=(X_test, y_test), callbacks=[checkpoint])"
   ]
  },
  {
   "cell_type": "code",
   "execution_count": 43,
   "metadata": {
    "colab": {
     "base_uri": "https://localhost:8080/"
    },
    "id": "0NxOE4iEvNk-",
    "outputId": "9fd4f8f2-5d40-49e1-bcf1-936cbc17b591"
   },
   "outputs": [
    {
     "name": "stdout",
     "output_type": "stream",
     "text": [
      "3/3 [==============================] - 0s 6ms/step - loss: 0.3078 - acc: 0.9894\n",
      "Loss: 0.3078301250934601\n",
      "Accuracy: 0.9893617033958435\n"
     ]
    }
   ],
   "source": [
    "loss, accuracy = model_lstm.evaluate(X_train, y_train)\n",
    "\n",
    "print(f'Loss: {loss}')\n",
    "print(f'Accuracy: {accuracy}')"
   ]
  },
  {
   "cell_type": "code",
   "execution_count": 44,
   "metadata": {
    "colab": {
     "base_uri": "https://localhost:8080/",
     "height": 573
    },
    "id": "kl9KTVs0qHEE",
    "outputId": "a48539ad-ccdc-41db-d0c9-1a31a9458fd3"
   },
   "outputs": [
    {
     "data": {
      "image/png": "[encoded data removed]",
      "text/plain": [
       "<Figure size 432x288 with 1 Axes>"
      ]
     },
     "metadata": {
      "needs_background": "light"
     },
     "output_type": "display_data"
    },
    {
     "data": {
      "image/png": "[encoded data removed]",
      "text/plain": [
       "<Figure size 432x288 with 1 Axes>"
      ]
     },
     "metadata": {
      "needs_background": "light"
     },
     "output_type": "display_data"
    }
   ],
   "source": [
    "# summarize history for accuracy\n",
    "plt.plot(history.history['acc'])\n",
    "plt.plot(history.history['val_acc'])\n",
    "plt.title('model accuracy')\n",
    "plt.ylabel('accuracy')\n",
    "plt.xlabel('epoch')\n",
    "plt.legend(['train', 'test'], loc='lower right')\n",
    "plt.show()\n",
    "# summarize history for loss\n",
    "plt.plot(history.history['loss'])\n",
    "plt.plot(history.history['val_loss'])\n",
    "plt.title('model loss')\n",
    "plt.ylabel('loss')\n",
    "plt.xlabel('epoch')\n",
    "plt.legend(['train', 'test'], loc='upper right')\n",
    "plt.show()"
   ]
  },
  {
   "cell_type": "code",
   "execution_count": 45,
   "metadata": {
    "id": "vH-JlFtbqtqU"
   },
   "outputs": [],
   "source": [
    "roc_auc_matrix = roc_auc_matrix.append(pd.Series(data={'model': 'model LSTM: Embedding (64), LSTM(10), Dense(64), Dropout(0.5), Dense(32), Dropout(0.5), Dense(7)',\n",
    "                                                       'roc_auc': round(roc_auc_score(label_binarize(df['intent'], classes=df['intent'].unique()),\n",
    "                                                                                      label_binarize(df['text'].apply(get_predictions, model=model_lstm), classes=df['intent'].unique()),\n",
    "                                                                                      multi_class='ovr'), 3)\n",
    "                                                       }), ignore_index=True)"
   ]
  },
  {
   "cell_type": "markdown",
   "metadata": {
    "id": "BlGZvFoU5r1D"
   },
   "source": [
    "# CNN"
   ]
  },
  {
   "cell_type": "code",
   "execution_count": 46,
   "metadata": {
    "id": "ktgpbaCC5yVu"
   },
   "outputs": [],
   "source": [
    "def create_model_cnn(vocab_size, max_length):\n",
    "    model = Sequential()\n",
    "    model.add(Embedding(vocab_size, 64, input_length=max_length, mask_zero=True))\n",
    "    model.add(Reshape((14,64,1)))\n",
    "    model.add(Conv2D(256, kernel_size=(2, 64), padding='valid', kernel_initializer='normal', activation='relu'))\n",
    "    model.add(MaxPool2D(pool_size=(14 - 2 + 1, 1), strides=(1,1), padding='valid'))\n",
    "    model.add(Flatten())\n",
    "    model.add(Dropout(0.5))\n",
    "    model.add(Dense(7, activation='softmax'))\n",
    "    \n",
    "    return model"
   ]
  },
  {
   "cell_type": "code",
   "execution_count": 47,
   "metadata": {
    "colab": {
     "base_uri": "https://localhost:8080/"
    },
    "id": "pciLyA8O51Ie",
    "outputId": "c84ce232-72b3-4615-d7e6-a1fdac6e6256"
   },
   "outputs": [
    {
     "name": "stdout",
     "output_type": "stream",
     "text": [
      "Model: \"sequential_2\"\n",
      "_________________________________________________________________\n",
      " Layer (type)                Output Shape              Param #   \n",
      "=================================================================\n",
      " embedding_2 (Embedding)     (None, 14, 64)            9792      \n",
      "                                                                 \n",
      " reshape (Reshape)           (None, 14, 64, 1)         0         \n",
      "                                                                 \n",
      " conv2d (Conv2D)             (None, 13, 1, 256)        33024     \n",
      "                                                                 \n",
      " max_pooling2d (MaxPooling2D  (None, 1, 1, 256)        0         \n",
      " )                                                               \n",
      "                                                                 \n",
      " flatten (Flatten)           (None, 256)               0         \n",
      "                                                                 \n",
      " dropout_4 (Dropout)         (None, 256)               0         \n",
      "                                                                 \n",
      " dense_5 (Dense)             (None, 7)                 1799      \n",
      "                                                                 \n",
      "=================================================================\n",
      "Total params: 44,615\n",
      "Trainable params: 44,615\n",
      "Non-trainable params: 0\n",
      "_________________________________________________________________\n"
     ]
    }
   ],
   "source": [
    "model_cnn = create_model_cnn(vocab_size, max_length)\n",
    "model_cnn.compile(loss='categorical_crossentropy', optimizer='adam', metrics=['acc'])\n",
    "model_cnn.summary()"
   ]
  },
  {
   "cell_type": "code",
   "execution_count": 48,
   "metadata": {
    "colab": {
     "base_uri": "https://localhost:8080/",
     "height": 758
    },
    "id": "mxixDAuV51yD",
    "outputId": "76570e87-3499-4f81-ba95-91c7e7db6229"
   },
   "outputs": [
    {
     "data": {
      "image/png": "[encoded data removed]",
      "text/plain": [
       "<IPython.core.display.Image object>"
      ]
     },
     "execution_count": 48,
     "metadata": {},
     "output_type": "execute_result"
    }
   ],
   "source": [
    "tf.keras.utils.plot_model(model_cnn)"
   ]
  },
  {
   "cell_type": "code",
   "execution_count": 49,
   "metadata": {
    "colab": {
     "base_uri": "https://localhost:8080/"
    },
    "id": "7TeTl95H55ha",
    "outputId": "34515652-3ef1-496e-9a46-23c8a2d38eab"
   },
   "outputs": [
    {
     "name": "stdout",
     "output_type": "stream",
     "text": [
      "Epoch 1/50\n",
      "1/3 [=========>....................] - ETA: 1s - loss: 1.9584 - acc: 0.0625\n",
      "Epoch 1: val_loss improved from inf to 1.93561, saving model to /content/drive/MyDrive/Colab Notebooks/21/intent/data/model_cnn.h5\n",
      "3/3 [==============================] - 1s 259ms/step - loss: 1.9479 - acc: 0.0851 - val_loss: 1.9356 - val_acc: 0.2917\n",
      "Epoch 2/50\n",
      "1/3 [=========>....................] - ETA: 0s - loss: 1.9227 - acc: 0.2812\n",
      "Epoch 2: val_loss improved from 1.93561 to 1.92489, saving model to /content/drive/MyDrive/Colab Notebooks/21/intent/data/model_cnn.h5\n",
      "3/3 [==============================] - 0s 52ms/step - loss: 1.9167 - acc: 0.3511 - val_loss: 1.9249 - val_acc: 0.3750\n",
      "Epoch 3/50\n",
      "1/3 [=========>....................] - ETA: 0s - loss: 1.8847 - acc: 0.5000\n",
      "Epoch 3: val_loss improved from 1.92489 to 1.91573, saving model to /content/drive/MyDrive/Colab Notebooks/21/intent/data/model_cnn.h5\n",
      "3/3 [==============================] - 0s 39ms/step - loss: 1.8800 - acc: 0.5213 - val_loss: 1.9157 - val_acc: 0.4167\n",
      "Epoch 4/50\n",
      "1/3 [=========>....................] - ETA: 0s - loss: 1.8591 - acc: 0.6875\n",
      "Epoch 4: val_loss improved from 1.91573 to 1.90701, saving model to /content/drive/MyDrive/Colab Notebooks/21/intent/data/model_cnn.h5\n",
      "3/3 [==============================] - 0s 41ms/step - loss: 1.8532 - acc: 0.5745 - val_loss: 1.9070 - val_acc: 0.4167\n",
      "Epoch 5/50\n",
      "1/3 [=========>....................] - ETA: 0s - loss: 1.8434 - acc: 0.5312\n",
      "Epoch 5: val_loss improved from 1.90701 to 1.89905, saving model to /content/drive/MyDrive/Colab Notebooks/21/intent/data/model_cnn.h5\n",
      "3/3 [==============================] - 0s 49ms/step - loss: 1.8354 - acc: 0.5319 - val_loss: 1.8991 - val_acc: 0.4167\n",
      "Epoch 6/50\n",
      "1/3 [=========>....................] - ETA: 0s - loss: 1.8257 - acc: 0.4375\n",
      "Epoch 6: val_loss improved from 1.89905 to 1.89101, saving model to /content/drive/MyDrive/Colab Notebooks/21/intent/data/model_cnn.h5\n",
      "3/3 [==============================] - 0s 39ms/step - loss: 1.8001 - acc: 0.5851 - val_loss: 1.8910 - val_acc: 0.3750\n",
      "Epoch 7/50\n",
      "1/3 [=========>....................] - ETA: 0s - loss: 1.7883 - acc: 0.5625\n",
      "Epoch 7: val_loss improved from 1.89101 to 1.88312, saving model to /content/drive/MyDrive/Colab Notebooks/21/intent/data/model_cnn.h5\n",
      "3/3 [==============================] - 0s 46ms/step - loss: 1.7732 - acc: 0.5851 - val_loss: 1.8831 - val_acc: 0.3750\n",
      "Epoch 8/50\n",
      "1/3 [=========>....................] - ETA: 0s - loss: 1.7258 - acc: 0.7812\n",
      "Epoch 8: val_loss improved from 1.88312 to 1.87399, saving model to /content/drive/MyDrive/Colab Notebooks/21/intent/data/model_cnn.h5\n",
      "3/3 [==============================] - 0s 42ms/step - loss: 1.7448 - acc: 0.6809 - val_loss: 1.8740 - val_acc: 0.3750\n",
      "Epoch 9/50\n",
      "1/3 [=========>....................] - ETA: 0s - loss: 1.7778 - acc: 0.5312\n",
      "Epoch 9: val_loss improved from 1.87399 to 1.86183, saving model to /content/drive/MyDrive/Colab Notebooks/21/intent/data/model_cnn.h5\n",
      "3/3 [==============================] - 0s 42ms/step - loss: 1.7201 - acc: 0.5851 - val_loss: 1.8618 - val_acc: 0.3750\n",
      "Epoch 10/50\n",
      "1/3 [=========>....................] - ETA: 0s - loss: 1.6590 - acc: 0.6250\n",
      "Epoch 10: val_loss improved from 1.86183 to 1.85146, saving model to /content/drive/MyDrive/Colab Notebooks/21/intent/data/model_cnn.h5\n",
      "3/3 [==============================] - 0s 45ms/step - loss: 1.6950 - acc: 0.5957 - val_loss: 1.8515 - val_acc: 0.3750\n",
      "Epoch 11/50\n",
      "1/3 [=========>....................] - ETA: 0s - loss: 1.6451 - acc: 0.6250\n",
      "Epoch 11: val_loss improved from 1.85146 to 1.83857, saving model to /content/drive/MyDrive/Colab Notebooks/21/intent/data/model_cnn.h5\n",
      "3/3 [==============================] - 0s 45ms/step - loss: 1.6444 - acc: 0.5957 - val_loss: 1.8386 - val_acc: 0.3750\n",
      "Epoch 12/50\n",
      "1/3 [=========>....................] - ETA: 0s - loss: 1.6343 - acc: 0.6562\n",
      "Epoch 12: val_loss improved from 1.83857 to 1.82520, saving model to /content/drive/MyDrive/Colab Notebooks/21/intent/data/model_cnn.h5\n",
      "3/3 [==============================] - 0s 41ms/step - loss: 1.6272 - acc: 0.6383 - val_loss: 1.8252 - val_acc: 0.3750\n",
      "Epoch 13/50\n",
      "1/3 [=========>....................] - ETA: 0s - loss: 1.6456 - acc: 0.5938\n",
      "Epoch 13: val_loss improved from 1.82520 to 1.80971, saving model to /content/drive/MyDrive/Colab Notebooks/21/intent/data/model_cnn.h5\n",
      "3/3 [==============================] - 0s 43ms/step - loss: 1.5711 - acc: 0.6596 - val_loss: 1.8097 - val_acc: 0.3750\n",
      "Epoch 14/50\n",
      "1/3 [=========>....................] - ETA: 0s - loss: 1.5556 - acc: 0.6875\n",
      "Epoch 14: val_loss improved from 1.80971 to 1.79322, saving model to /content/drive/MyDrive/Colab Notebooks/21/intent/data/model_cnn.h5\n",
      "3/3 [==============================] - 0s 36ms/step - loss: 1.5324 - acc: 0.6915 - val_loss: 1.7932 - val_acc: 0.3750\n",
      "Epoch 15/50\n",
      "1/3 [=========>....................] - ETA: 0s - loss: 1.4843 - acc: 0.5625\n",
      "Epoch 15: val_loss improved from 1.79322 to 1.77257, saving model to /content/drive/MyDrive/Colab Notebooks/21/intent/data/model_cnn.h5\n",
      "3/3 [==============================] - 0s 38ms/step - loss: 1.5032 - acc: 0.6489 - val_loss: 1.7726 - val_acc: 0.3750\n",
      "Epoch 16/50\n",
      "1/3 [=========>....................] - ETA: 0s - loss: 1.4022 - acc: 0.6562\n",
      "Epoch 16: val_loss improved from 1.77257 to 1.75189, saving model to /content/drive/MyDrive/Colab Notebooks/21/intent/data/model_cnn.h5\n",
      "3/3 [==============================] - 0s 44ms/step - loss: 1.4570 - acc: 0.6489 - val_loss: 1.7519 - val_acc: 0.3750\n",
      "Epoch 17/50\n",
      "1/3 [=========>....................] - ETA: 0s - loss: 1.3945 - acc: 0.6562\n",
      "Epoch 17: val_loss improved from 1.75189 to 1.72358, saving model to /content/drive/MyDrive/Colab Notebooks/21/intent/data/model_cnn.h5\n",
      "3/3 [==============================] - 0s 40ms/step - loss: 1.3975 - acc: 0.6702 - val_loss: 1.7236 - val_acc: 0.3750\n",
      "Epoch 18/50\n",
      "1/3 [=========>....................] - ETA: 0s - loss: 1.4100 - acc: 0.6875\n",
      "Epoch 18: val_loss improved from 1.72358 to 1.69046, saving model to /content/drive/MyDrive/Colab Notebooks/21/intent/data/model_cnn.h5\n",
      "3/3 [==============================] - 0s 40ms/step - loss: 1.3433 - acc: 0.7340 - val_loss: 1.6905 - val_acc: 0.4167\n",
      "Epoch 19/50\n",
      "1/3 [=========>....................] - ETA: 0s - loss: 1.4080 - acc: 0.6875\n",
      "Epoch 19: val_loss improved from 1.69046 to 1.65389, saving model to /content/drive/MyDrive/Colab Notebooks/21/intent/data/model_cnn.h5\n",
      "3/3 [==============================] - 0s 43ms/step - loss: 1.2795 - acc: 0.7553 - val_loss: 1.6539 - val_acc: 0.4167\n",
      "Epoch 20/50\n",
      "1/3 [=========>....................] - ETA: 0s - loss: 1.3136 - acc: 0.6562\n",
      "Epoch 20: val_loss improved from 1.65389 to 1.61380, saving model to /content/drive/MyDrive/Colab Notebooks/21/intent/data/model_cnn.h5\n",
      "3/3 [==============================] - 0s 41ms/step - loss: 1.2387 - acc: 0.7447 - val_loss: 1.6138 - val_acc: 0.4583\n",
      "Epoch 21/50\n",
      "1/3 [=========>....................] - ETA: 0s - loss: 1.1607 - acc: 0.8125\n",
      "Epoch 21: val_loss improved from 1.61380 to 1.57085, saving model to /content/drive/MyDrive/Colab Notebooks/21/intent/data/model_cnn.h5\n",
      "3/3 [==============================] - 0s 44ms/step - loss: 1.1718 - acc: 0.7660 - val_loss: 1.5708 - val_acc: 0.4583\n",
      "Epoch 22/50\n",
      "1/3 [=========>....................] - ETA: 0s - loss: 1.1302 - acc: 0.7500\n",
      "Epoch 22: val_loss improved from 1.57085 to 1.52272, saving model to /content/drive/MyDrive/Colab Notebooks/21/intent/data/model_cnn.h5\n",
      "3/3 [==============================] - 0s 71ms/step - loss: 1.1263 - acc: 0.7766 - val_loss: 1.5227 - val_acc: 0.4583\n",
      "Epoch 23/50\n",
      "1/3 [=========>....................] - ETA: 0s - loss: 1.0235 - acc: 0.7500\n",
      "Epoch 23: val_loss improved from 1.52272 to 1.47436, saving model to /content/drive/MyDrive/Colab Notebooks/21/intent/data/model_cnn.h5\n",
      "3/3 [==============================] - 0s 38ms/step - loss: 1.0366 - acc: 0.8191 - val_loss: 1.4744 - val_acc: 0.4583\n",
      "Epoch 24/50\n",
      "1/3 [=========>....................] - ETA: 0s - loss: 1.0246 - acc: 0.8125\n",
      "Epoch 24: val_loss improved from 1.47436 to 1.42403, saving model to /content/drive/MyDrive/Colab Notebooks/21/intent/data/model_cnn.h5\n",
      "3/3 [==============================] - 0s 39ms/step - loss: 0.9792 - acc: 0.8085 - val_loss: 1.4240 - val_acc: 0.5000\n",
      "Epoch 25/50\n",
      "1/3 [=========>....................] - ETA: 0s - loss: 0.9710 - acc: 0.7812\n",
      "Epoch 25: val_loss improved from 1.42403 to 1.36822, saving model to /content/drive/MyDrive/Colab Notebooks/21/intent/data/model_cnn.h5\n",
      "3/3 [==============================] - 0s 42ms/step - loss: 0.9119 - acc: 0.8723 - val_loss: 1.3682 - val_acc: 0.5833\n",
      "Epoch 26/50\n",
      "1/3 [=========>....................] - ETA: 0s - loss: 0.7334 - acc: 0.9375\n",
      "Epoch 26: val_loss improved from 1.36822 to 1.31661, saving model to /content/drive/MyDrive/Colab Notebooks/21/intent/data/model_cnn.h5\n",
      "3/3 [==============================] - 0s 39ms/step - loss: 0.8402 - acc: 0.8830 - val_loss: 1.3166 - val_acc: 0.5833\n",
      "Epoch 27/50\n",
      "1/3 [=========>....................] - ETA: 0s - loss: 0.8051 - acc: 0.8750\n",
      "Epoch 27: val_loss improved from 1.31661 to 1.26489, saving model to /content/drive/MyDrive/Colab Notebooks/21/intent/data/model_cnn.h5\n",
      "3/3 [==============================] - 0s 46ms/step - loss: 0.7452 - acc: 0.9149 - val_loss: 1.2649 - val_acc: 0.6250\n",
      "Epoch 28/50\n",
      "1/3 [=========>....................] - ETA: 0s - loss: 0.8841 - acc: 0.8125\n",
      "Epoch 28: val_loss improved from 1.26489 to 1.20876, saving model to /content/drive/MyDrive/Colab Notebooks/21/intent/data/model_cnn.h5\n",
      "3/3 [==============================] - 0s 43ms/step - loss: 0.7001 - acc: 0.8936 - val_loss: 1.2088 - val_acc: 0.6667\n",
      "Epoch 29/50\n",
      "1/3 [=========>....................] - ETA: 0s - loss: 0.5088 - acc: 1.0000\n",
      "Epoch 29: val_loss improved from 1.20876 to 1.15782, saving model to /content/drive/MyDrive/Colab Notebooks/21/intent/data/model_cnn.h5\n",
      "3/3 [==============================] - 0s 45ms/step - loss: 0.6115 - acc: 0.9468 - val_loss: 1.1578 - val_acc: 0.7083\n",
      "Epoch 30/50\n",
      "1/3 [=========>....................] - ETA: 0s - loss: 0.5706 - acc: 0.9375\n",
      "Epoch 30: val_loss improved from 1.15782 to 1.10704, saving model to /content/drive/MyDrive/Colab Notebooks/21/intent/data/model_cnn.h5\n",
      "3/3 [==============================] - 0s 44ms/step - loss: 0.5691 - acc: 0.9149 - val_loss: 1.1070 - val_acc: 0.7500\n",
      "Epoch 31/50\n",
      "1/3 [=========>....................] - ETA: 0s - loss: 0.5090 - acc: 0.9375\n",
      "Epoch 31: val_loss improved from 1.10704 to 1.05498, saving model to /content/drive/MyDrive/Colab Notebooks/21/intent/data/model_cnn.h5\n",
      "3/3 [==============================] - 0s 56ms/step - loss: 0.4928 - acc: 0.9574 - val_loss: 1.0550 - val_acc: 0.7917\n",
      "Epoch 32/50\n",
      "1/3 [=========>....................] - ETA: 0s - loss: 0.3786 - acc: 0.9688\n",
      "Epoch 32: val_loss improved from 1.05498 to 1.00660, saving model to /content/drive/MyDrive/Colab Notebooks/21/intent/data/model_cnn.h5\n",
      "3/3 [==============================] - 0s 40ms/step - loss: 0.4593 - acc: 0.9681 - val_loss: 1.0066 - val_acc: 0.7917\n",
      "Epoch 33/50\n",
      "1/3 [=========>....................] - ETA: 0s - loss: 0.4987 - acc: 0.9375\n",
      "Epoch 33: val_loss improved from 1.00660 to 0.95717, saving model to /content/drive/MyDrive/Colab Notebooks/21/intent/data/model_cnn.h5\n",
      "3/3 [==============================] - 0s 45ms/step - loss: 0.4244 - acc: 0.9574 - val_loss: 0.9572 - val_acc: 0.7917\n",
      "Epoch 34/50\n",
      "1/3 [=========>....................] - ETA: 0s - loss: 0.3032 - acc: 1.0000\n",
      "Epoch 34: val_loss improved from 0.95717 to 0.91163, saving model to /content/drive/MyDrive/Colab Notebooks/21/intent/data/model_cnn.h5\n",
      "3/3 [==============================] - 0s 40ms/step - loss: 0.3656 - acc: 0.9787 - val_loss: 0.9116 - val_acc: 0.8333\n",
      "Epoch 35/50\n",
      "1/3 [=========>....................] - ETA: 0s - loss: 0.3035 - acc: 1.0000\n",
      "Epoch 35: val_loss improved from 0.91163 to 0.86709, saving model to /content/drive/MyDrive/Colab Notebooks/21/intent/data/model_cnn.h5\n",
      "3/3 [==============================] - 0s 41ms/step - loss: 0.3325 - acc: 0.9681 - val_loss: 0.8671 - val_acc: 0.8750\n",
      "Epoch 36/50\n",
      "1/3 [=========>....................] - ETA: 0s - loss: 0.2900 - acc: 0.9688\n",
      "Epoch 36: val_loss improved from 0.86709 to 0.82770, saving model to /content/drive/MyDrive/Colab Notebooks/21/intent/data/model_cnn.h5\n",
      "3/3 [==============================] - 0s 42ms/step - loss: 0.3405 - acc: 0.9574 - val_loss: 0.8277 - val_acc: 0.8333\n",
      "Epoch 37/50\n",
      "1/3 [=========>....................] - ETA: 0s - loss: 0.2478 - acc: 1.0000\n",
      "Epoch 37: val_loss improved from 0.82770 to 0.79045, saving model to /content/drive/MyDrive/Colab Notebooks/21/intent/data/model_cnn.h5\n",
      "3/3 [==============================] - 0s 41ms/step - loss: 0.2647 - acc: 0.9894 - val_loss: 0.7905 - val_acc: 0.8750\n",
      "Epoch 38/50\n",
      "1/3 [=========>....................] - ETA: 0s - loss: 0.3963 - acc: 0.9375\n",
      "Epoch 38: val_loss improved from 0.79045 to 0.75585, saving model to /content/drive/MyDrive/Colab Notebooks/21/intent/data/model_cnn.h5\n",
      "3/3 [==============================] - 0s 41ms/step - loss: 0.2561 - acc: 0.9681 - val_loss: 0.7559 - val_acc: 0.8750\n",
      "Epoch 39/50\n",
      "1/3 [=========>....................] - ETA: 0s - loss: 0.1360 - acc: 1.0000\n",
      "Epoch 39: val_loss improved from 0.75585 to 0.72858, saving model to /content/drive/MyDrive/Colab Notebooks/21/intent/data/model_cnn.h5\n",
      "3/3 [==============================] - 0s 43ms/step - loss: 0.2205 - acc: 0.9894 - val_loss: 0.7286 - val_acc: 0.8750\n",
      "Epoch 40/50\n",
      "1/3 [=========>....................] - ETA: 0s - loss: 0.2668 - acc: 0.9688\n",
      "Epoch 40: val_loss improved from 0.72858 to 0.70344, saving model to /content/drive/MyDrive/Colab Notebooks/21/intent/data/model_cnn.h5\n",
      "3/3 [==============================] - 0s 44ms/step - loss: 0.2126 - acc: 0.9787 - val_loss: 0.7034 - val_acc: 0.8750\n",
      "Epoch 41/50\n",
      "1/3 [=========>....................] - ETA: 0s - loss: 0.2489 - acc: 0.9688\n",
      "Epoch 41: val_loss improved from 0.70344 to 0.68033, saving model to /content/drive/MyDrive/Colab Notebooks/21/intent/data/model_cnn.h5\n",
      "3/3 [==============================] - 0s 39ms/step - loss: 0.1867 - acc: 0.9787 - val_loss: 0.6803 - val_acc: 0.8750\n",
      "Epoch 42/50\n",
      "1/3 [=========>....................] - ETA: 0s - loss: 0.2181 - acc: 0.9688\n",
      "Epoch 42: val_loss improved from 0.68033 to 0.65925, saving model to /content/drive/MyDrive/Colab Notebooks/21/intent/data/model_cnn.h5\n",
      "3/3 [==============================] - 0s 54ms/step - loss: 0.1686 - acc: 0.9894 - val_loss: 0.6592 - val_acc: 0.8750\n",
      "Epoch 43/50\n",
      "1/3 [=========>....................] - ETA: 0s - loss: 0.2713 - acc: 0.9688\n",
      "Epoch 43: val_loss improved from 0.65925 to 0.63895, saving model to /content/drive/MyDrive/Colab Notebooks/21/intent/data/model_cnn.h5\n",
      "3/3 [==============================] - 0s 42ms/step - loss: 0.1682 - acc: 0.9894 - val_loss: 0.6390 - val_acc: 0.8750\n",
      "Epoch 44/50\n",
      "1/3 [=========>....................] - ETA: 0s - loss: 0.2332 - acc: 0.9688\n",
      "Epoch 44: val_loss improved from 0.63895 to 0.62200, saving model to /content/drive/MyDrive/Colab Notebooks/21/intent/data/model_cnn.h5\n",
      "3/3 [==============================] - 0s 40ms/step - loss: 0.1622 - acc: 0.9787 - val_loss: 0.6220 - val_acc: 0.8750\n",
      "Epoch 45/50\n",
      "1/3 [=========>....................] - ETA: 0s - loss: 0.1066 - acc: 1.0000\n",
      "Epoch 45: val_loss improved from 0.62200 to 0.60662, saving model to /content/drive/MyDrive/Colab Notebooks/21/intent/data/model_cnn.h5\n",
      "3/3 [==============================] - 0s 42ms/step - loss: 0.1246 - acc: 0.9894 - val_loss: 0.6066 - val_acc: 0.8750\n",
      "Epoch 46/50\n",
      "1/3 [=========>....................] - ETA: 0s - loss: 0.1284 - acc: 0.9688\n",
      "Epoch 46: val_loss improved from 0.60662 to 0.59359, saving model to /content/drive/MyDrive/Colab Notebooks/21/intent/data/model_cnn.h5\n",
      "3/3 [==============================] - 0s 40ms/step - loss: 0.1328 - acc: 0.9787 - val_loss: 0.5936 - val_acc: 0.8750\n",
      "Epoch 47/50\n",
      "1/3 [=========>....................] - ETA: 0s - loss: 0.0648 - acc: 1.0000\n",
      "Epoch 47: val_loss improved from 0.59359 to 0.58313, saving model to /content/drive/MyDrive/Colab Notebooks/21/intent/data/model_cnn.h5\n",
      "3/3 [==============================] - 0s 42ms/step - loss: 0.1080 - acc: 0.9894 - val_loss: 0.5831 - val_acc: 0.8750\n",
      "Epoch 48/50\n",
      "1/3 [=========>....................] - ETA: 0s - loss: 0.0806 - acc: 1.0000\n",
      "Epoch 48: val_loss improved from 0.58313 to 0.57596, saving model to /content/drive/MyDrive/Colab Notebooks/21/intent/data/model_cnn.h5\n",
      "3/3 [==============================] - 0s 45ms/step - loss: 0.1048 - acc: 0.9894 - val_loss: 0.5760 - val_acc: 0.8750\n",
      "Epoch 49/50\n",
      "1/3 [=========>....................] - ETA: 0s - loss: 0.1331 - acc: 0.9688\n",
      "Epoch 49: val_loss improved from 0.57596 to 0.57035, saving model to /content/drive/MyDrive/Colab Notebooks/21/intent/data/model_cnn.h5\n",
      "3/3 [==============================] - 0s 42ms/step - loss: 0.0929 - acc: 0.9894 - val_loss: 0.5704 - val_acc: 0.8750\n",
      "Epoch 50/50\n",
      "1/3 [=========>....................] - ETA: 0s - loss: 0.0620 - acc: 1.0000\n",
      "Epoch 50: val_loss improved from 0.57035 to 0.56625, saving model to /content/drive/MyDrive/Colab Notebooks/21/intent/data/model_cnn.h5\n",
      "3/3 [==============================] - 0s 41ms/step - loss: 0.0922 - acc: 0.9894 - val_loss: 0.5662 - val_acc: 0.8750\n"
     ]
    }
   ],
   "source": [
    "model_cnn_filename = 'model_cnn.h5'\n",
    "checkpoint = ModelCheckpoint(PATH+model_cnn_filename, monitor='val_loss', verbose=1, save_best_only=True, mode='min')\n",
    "history = model_cnn.fit(X_train, y_train, epochs=50, validation_data=(X_test, y_test), callbacks=[checkpoint])"
   ]
  },
  {
   "cell_type": "code",
   "execution_count": 50,
   "metadata": {
    "colab": {
     "base_uri": "https://localhost:8080/"
    },
    "id": "GPcurXhH58nX",
    "outputId": "2d503292-29bf-4e48-e471-e04e7fbe4e1a"
   },
   "outputs": [
    {
     "name": "stdout",
     "output_type": "stream",
     "text": [
      "3/3 [==============================] - 0s 5ms/step - loss: 0.0727 - acc: 0.9894\n",
      "Loss: 0.07268126308917999\n",
      "Accuracy: 0.9893617033958435\n"
     ]
    }
   ],
   "source": [
    "loss, accuracy = model_cnn.evaluate(X_train, y_train)\n",
    "\n",
    "print(f'Loss: {loss}')\n",
    "print(f'Accuracy: {accuracy}')"
   ]
  },
  {
   "cell_type": "code",
   "execution_count": 51,
   "metadata": {
    "colab": {
     "base_uri": "https://localhost:8080/",
     "height": 573
    },
    "id": "aFJg1Q-86AP4",
    "outputId": "b98767dc-dfb6-470b-d58c-363b53218074"
   },
   "outputs": [
    {
     "data": {
      "image/png": "[encoded data removed]",
      "text/plain": [
       "<Figure size 432x288 with 1 Axes>"
      ]
     },
     "metadata": {
      "needs_background": "light"
     },
     "output_type": "display_data"
    },
    {
     "data": {
      "image/png": "[encoded data removed]",
      "text/plain": [
       "<Figure size 432x288 with 1 Axes>"
      ]
     },
     "metadata": {
      "needs_background": "light"
     },
     "output_type": "display_data"
    }
   ],
   "source": [
    "# summarize history for accuracy\n",
    "plt.plot(history.history['acc'])\n",
    "plt.plot(history.history['val_acc'])\n",
    "plt.title('model accuracy')\n",
    "plt.ylabel('accuracy')\n",
    "plt.xlabel('epoch')\n",
    "plt.legend(['train', 'test'], loc='lower right')\n",
    "plt.show()\n",
    "# summarize history for loss\n",
    "plt.plot(history.history['loss'])\n",
    "plt.plot(history.history['val_loss'])\n",
    "plt.title('model loss')\n",
    "plt.ylabel('loss')\n",
    "plt.xlabel('epoch')\n",
    "plt.legend(['train', 'test'], loc='upper right')\n",
    "plt.show()"
   ]
  },
  {
   "cell_type": "code",
   "execution_count": 52,
   "metadata": {
    "id": "UIA1iQil6Cra"
   },
   "outputs": [],
   "source": [
    "roc_auc_matrix = roc_auc_matrix.append(pd.Series(data={'model': 'model CNN: Embedding (64), Reshape(14,64,1), Conv2D(256), MaxPool2D(13,1), Flatten(), Dropout(0.5), Dense(7)',\n",
    "                                                       'roc_auc': round(roc_auc_score(label_binarize(df['intent'], classes=df['intent'].unique()),\n",
    "                                                                                      label_binarize(df['text'].apply(get_predictions, model=model_cnn), classes=df['intent'].unique()),\n",
    "                                                                                      multi_class='ovr'), 3)\n",
    "                                                       }), ignore_index=True)"
   ]
  },
  {
   "cell_type": "markdown",
   "metadata": {
    "id": "ggtnUPsXxnJF"
   },
   "source": [
    "# BERT model"
   ]
  },
  {
   "cell_type": "code",
   "execution_count": 53,
   "metadata": {
    "id": "Zk2ZJ4Tf0Gl4"
   },
   "outputs": [],
   "source": [
    "!pip install -q -U \"tensorflow-text==2.8.*\"\n",
    "!pip install -q tf-models-official==2.7.0"
   ]
  },
  {
   "cell_type": "code",
   "execution_count": 54,
   "metadata": {
    "cellView": "form",
    "colab": {
     "base_uri": "https://localhost:8080/"
    },
    "id": "jgg0jPioxpfB",
    "outputId": "fe273b8c-d642-444f-aa6c-c4f9e7e51414"
   },
   "outputs": [
    {
     "name": "stdout",
     "output_type": "stream",
     "text": [
      "BERT model selected           : https://tfhub.dev/tensorflow/small_bert/bert_en_uncased_L-4_H-512_A-8/1\n",
      "Preprocess model auto-selected: https://tfhub.dev/tensorflow/bert_en_uncased_preprocess/3\n"
     ]
    }
   ],
   "source": [
    "#@title Choose a BERT model to fine-tune\n",
    "\n",
    "bert_model_name = 'small_bert/bert_en_uncased_L-4_H-512_A-8'  #@param [\"bert_en_uncased_L-12_H-768_A-12\", \"bert_en_cased_L-12_H-768_A-12\", \"bert_multi_cased_L-12_H-768_A-12\", \"small_bert/bert_en_uncased_L-2_H-128_A-2\", \"small_bert/bert_en_uncased_L-2_H-256_A-4\", \"small_bert/bert_en_uncased_L-2_H-512_A-8\", \"small_bert/bert_en_uncased_L-2_H-768_A-12\", \"small_bert/bert_en_uncased_L-4_H-128_A-2\", \"small_bert/bert_en_uncased_L-4_H-256_A-4\", \"small_bert/bert_en_uncased_L-4_H-512_A-8\", \"small_bert/bert_en_uncased_L-4_H-768_A-12\", \"small_bert/bert_en_uncased_L-6_H-128_A-2\", \"small_bert/bert_en_uncased_L-6_H-256_A-4\", \"small_bert/bert_en_uncased_L-6_H-512_A-8\", \"small_bert/bert_en_uncased_L-6_H-768_A-12\", \"small_bert/bert_en_uncased_L-8_H-128_A-2\", \"small_bert/bert_en_uncased_L-8_H-256_A-4\", \"small_bert/bert_en_uncased_L-8_H-512_A-8\", \"small_bert/bert_en_uncased_L-8_H-768_A-12\", \"small_bert/bert_en_uncased_L-10_H-128_A-2\", \"small_bert/bert_en_uncased_L-10_H-256_A-4\", \"small_bert/bert_en_uncased_L-10_H-512_A-8\", \"small_bert/bert_en_uncased_L-10_H-768_A-12\", \"small_bert/bert_en_uncased_L-12_H-128_A-2\", \"small_bert/bert_en_uncased_L-12_H-256_A-4\", \"small_bert/bert_en_uncased_L-12_H-512_A-8\", \"small_bert/bert_en_uncased_L-12_H-768_A-12\", \"albert_en_base\", \"electra_small\", \"electra_base\", \"experts_pubmed\", \"experts_wiki_books\", \"talking-heads_base\"]\n",
    "\n",
    "map_name_to_handle = {\n",
    "    'bert_en_uncased_L-12_H-768_A-12':\n",
    "        'https://tfhub.dev/tensorflow/bert_en_uncased_L-12_H-768_A-12/3',\n",
    "    'bert_en_cased_L-12_H-768_A-12':\n",
    "        'https://tfhub.dev/tensorflow/bert_en_cased_L-12_H-768_A-12/3',\n",
    "    'bert_multi_cased_L-12_H-768_A-12':\n",
    "        'https://tfhub.dev/tensorflow/bert_multi_cased_L-12_H-768_A-12/3',\n",
    "    'small_bert/bert_en_uncased_L-2_H-128_A-2':\n",
    "        'https://tfhub.dev/tensorflow/small_bert/bert_en_uncased_L-2_H-128_A-2/1',\n",
    "    'small_bert/bert_en_uncased_L-2_H-256_A-4':\n",
    "        'https://tfhub.dev/tensorflow/small_bert/bert_en_uncased_L-2_H-256_A-4/1',\n",
    "    'small_bert/bert_en_uncased_L-2_H-512_A-8':\n",
    "        'https://tfhub.dev/tensorflow/small_bert/bert_en_uncased_L-2_H-512_A-8/1',\n",
    "    'small_bert/bert_en_uncased_L-2_H-768_A-12':\n",
    "        'https://tfhub.dev/tensorflow/small_bert/bert_en_uncased_L-2_H-768_A-12/1',\n",
    "    'small_bert/bert_en_uncased_L-4_H-128_A-2':\n",
    "        'https://tfhub.dev/tensorflow/small_bert/bert_en_uncased_L-4_H-128_A-2/1',\n",
    "    'small_bert/bert_en_uncased_L-4_H-256_A-4':\n",
    "        'https://tfhub.dev/tensorflow/small_bert/bert_en_uncased_L-4_H-256_A-4/1',\n",
    "    'small_bert/bert_en_uncased_L-4_H-512_A-8':\n",
    "        'https://tfhub.dev/tensorflow/small_bert/bert_en_uncased_L-4_H-512_A-8/1',\n",
    "    'small_bert/bert_en_uncased_L-4_H-768_A-12':\n",
    "        'https://tfhub.dev/tensorflow/small_bert/bert_en_uncased_L-4_H-768_A-12/1',\n",
    "    'small_bert/bert_en_uncased_L-6_H-128_A-2':\n",
    "        'https://tfhub.dev/tensorflow/small_bert/bert_en_uncased_L-6_H-128_A-2/1',\n",
    "    'small_bert/bert_en_uncased_L-6_H-256_A-4':\n",
    "        'https://tfhub.dev/tensorflow/small_bert/bert_en_uncased_L-6_H-256_A-4/1',\n",
    "    'small_bert/bert_en_uncased_L-6_H-512_A-8':\n",
    "        'https://tfhub.dev/tensorflow/small_bert/bert_en_uncased_L-6_H-512_A-8/1',\n",
    "    'small_bert/bert_en_uncased_L-6_H-768_A-12':\n",
    "        'https://tfhub.dev/tensorflow/small_bert/bert_en_uncased_L-6_H-768_A-12/1',\n",
    "    'small_bert/bert_en_uncased_L-8_H-128_A-2':\n",
    "        'https://tfhub.dev/tensorflow/small_bert/bert_en_uncased_L-8_H-128_A-2/1',\n",
    "    'small_bert/bert_en_uncased_L-8_H-256_A-4':\n",
    "        'https://tfhub.dev/tensorflow/small_bert/bert_en_uncased_L-8_H-256_A-4/1',\n",
    "    'small_bert/bert_en_uncased_L-8_H-512_A-8':\n",
    "        'https://tfhub.dev/tensorflow/small_bert/bert_en_uncased_L-8_H-512_A-8/1',\n",
    "    'small_bert/bert_en_uncased_L-8_H-768_A-12':\n",
    "        'https://tfhub.dev/tensorflow/small_bert/bert_en_uncased_L-8_H-768_A-12/1',\n",
    "    'small_bert/bert_en_uncased_L-10_H-128_A-2':\n",
    "        'https://tfhub.dev/tensorflow/small_bert/bert_en_uncased_L-10_H-128_A-2/1',\n",
    "    'small_bert/bert_en_uncased_L-10_H-256_A-4':\n",
    "        'https://tfhub.dev/tensorflow/small_bert/bert_en_uncased_L-10_H-256_A-4/1',\n",
    "    'small_bert/bert_en_uncased_L-10_H-512_A-8':\n",
    "        'https://tfhub.dev/tensorflow/small_bert/bert_en_uncased_L-10_H-512_A-8/1',\n",
    "    'small_bert/bert_en_uncased_L-10_H-768_A-12':\n",
    "        'https://tfhub.dev/tensorflow/small_bert/bert_en_uncased_L-10_H-768_A-12/1',\n",
    "    'small_bert/bert_en_uncased_L-12_H-128_A-2':\n",
    "        'https://tfhub.dev/tensorflow/small_bert/bert_en_uncased_L-12_H-128_A-2/1',\n",
    "    'small_bert/bert_en_uncased_L-12_H-256_A-4':\n",
    "        'https://tfhub.dev/tensorflow/small_bert/bert_en_uncased_L-12_H-256_A-4/1',\n",
    "    'small_bert/bert_en_uncased_L-12_H-512_A-8':\n",
    "        'https://tfhub.dev/tensorflow/small_bert/bert_en_uncased_L-12_H-512_A-8/1',\n",
    "    'small_bert/bert_en_uncased_L-12_H-768_A-12':\n",
    "        'https://tfhub.dev/tensorflow/small_bert/bert_en_uncased_L-12_H-768_A-12/1',\n",
    "    'albert_en_base':\n",
    "        'https://tfhub.dev/tensorflow/albert_en_base/2',\n",
    "    'electra_small':\n",
    "        'https://tfhub.dev/google/electra_small/2',\n",
    "    'electra_base':\n",
    "        'https://tfhub.dev/google/electra_base/2',\n",
    "    'experts_pubmed':\n",
    "        'https://tfhub.dev/google/experts/bert/pubmed/2',\n",
    "    'experts_wiki_books':\n",
    "        'https://tfhub.dev/google/experts/bert/wiki_books/2',\n",
    "    'talking-heads_base':\n",
    "        'https://tfhub.dev/tensorflow/talkheads_ggelu_bert_en_base/1',\n",
    "}\n",
    "\n",
    "map_model_to_preprocess = {\n",
    "    'bert_en_uncased_L-12_H-768_A-12':\n",
    "        'https://tfhub.dev/tensorflow/bert_en_uncased_preprocess/3',\n",
    "    'bert_en_cased_L-12_H-768_A-12':\n",
    "        'https://tfhub.dev/tensorflow/bert_en_cased_preprocess/3',\n",
    "    'small_bert/bert_en_uncased_L-2_H-128_A-2':\n",
    "        'https://tfhub.dev/tensorflow/bert_en_uncased_preprocess/3',\n",
    "    'small_bert/bert_en_uncased_L-2_H-256_A-4':\n",
    "        'https://tfhub.dev/tensorflow/bert_en_uncased_preprocess/3',\n",
    "    'small_bert/bert_en_uncased_L-2_H-512_A-8':\n",
    "        'https://tfhub.dev/tensorflow/bert_en_uncased_preprocess/3',\n",
    "    'small_bert/bert_en_uncased_L-2_H-768_A-12':\n",
    "        'https://tfhub.dev/tensorflow/bert_en_uncased_preprocess/3',\n",
    "    'small_bert/bert_en_uncased_L-4_H-128_A-2':\n",
    "        'https://tfhub.dev/tensorflow/bert_en_uncased_preprocess/3',\n",
    "    'small_bert/bert_en_uncased_L-4_H-256_A-4':\n",
    "        'https://tfhub.dev/tensorflow/bert_en_uncased_preprocess/3',\n",
    "    'small_bert/bert_en_uncased_L-4_H-512_A-8':\n",
    "        'https://tfhub.dev/tensorflow/bert_en_uncased_preprocess/3',\n",
    "    'small_bert/bert_en_uncased_L-4_H-768_A-12':\n",
    "        'https://tfhub.dev/tensorflow/bert_en_uncased_preprocess/3',\n",
    "    'small_bert/bert_en_uncased_L-6_H-128_A-2':\n",
    "        'https://tfhub.dev/tensorflow/bert_en_uncased_preprocess/3',\n",
    "    'small_bert/bert_en_uncased_L-6_H-256_A-4':\n",
    "        'https://tfhub.dev/tensorflow/bert_en_uncased_preprocess/3',\n",
    "    'small_bert/bert_en_uncased_L-6_H-512_A-8':\n",
    "        'https://tfhub.dev/tensorflow/bert_en_uncased_preprocess/3',\n",
    "    'small_bert/bert_en_uncased_L-6_H-768_A-12':\n",
    "        'https://tfhub.dev/tensorflow/bert_en_uncased_preprocess/3',\n",
    "    'small_bert/bert_en_uncased_L-8_H-128_A-2':\n",
    "        'https://tfhub.dev/tensorflow/bert_en_uncased_preprocess/3',\n",
    "    'small_bert/bert_en_uncased_L-8_H-256_A-4':\n",
    "        'https://tfhub.dev/tensorflow/bert_en_uncased_preprocess/3',\n",
    "    'small_bert/bert_en_uncased_L-8_H-512_A-8':\n",
    "        'https://tfhub.dev/tensorflow/bert_en_uncased_preprocess/3',\n",
    "    'small_bert/bert_en_uncased_L-8_H-768_A-12':\n",
    "        'https://tfhub.dev/tensorflow/bert_en_uncased_preprocess/3',\n",
    "    'small_bert/bert_en_uncased_L-10_H-128_A-2':\n",
    "        'https://tfhub.dev/tensorflow/bert_en_uncased_preprocess/3',\n",
    "    'small_bert/bert_en_uncased_L-10_H-256_A-4':\n",
    "        'https://tfhub.dev/tensorflow/bert_en_uncased_preprocess/3',\n",
    "    'small_bert/bert_en_uncased_L-10_H-512_A-8':\n",
    "        'https://tfhub.dev/tensorflow/bert_en_uncased_preprocess/3',\n",
    "    'small_bert/bert_en_uncased_L-10_H-768_A-12':\n",
    "        'https://tfhub.dev/tensorflow/bert_en_uncased_preprocess/3',\n",
    "    'small_bert/bert_en_uncased_L-12_H-128_A-2':\n",
    "        'https://tfhub.dev/tensorflow/bert_en_uncased_preprocess/3',\n",
    "    'small_bert/bert_en_uncased_L-12_H-256_A-4':\n",
    "        'https://tfhub.dev/tensorflow/bert_en_uncased_preprocess/3',\n",
    "    'small_bert/bert_en_uncased_L-12_H-512_A-8':\n",
    "        'https://tfhub.dev/tensorflow/bert_en_uncased_preprocess/3',\n",
    "    'small_bert/bert_en_uncased_L-12_H-768_A-12':\n",
    "        'https://tfhub.dev/tensorflow/bert_en_uncased_preprocess/3',\n",
    "    'bert_multi_cased_L-12_H-768_A-12':\n",
    "        'https://tfhub.dev/tensorflow/bert_multi_cased_preprocess/3',\n",
    "    'albert_en_base':\n",
    "        'https://tfhub.dev/tensorflow/albert_en_preprocess/3',\n",
    "    'electra_small':\n",
    "        'https://tfhub.dev/tensorflow/bert_en_uncased_preprocess/3',\n",
    "    'electra_base':\n",
    "        'https://tfhub.dev/tensorflow/bert_en_uncased_preprocess/3',\n",
    "    'experts_pubmed':\n",
    "        'https://tfhub.dev/tensorflow/bert_en_uncased_preprocess/3',\n",
    "    'experts_wiki_books':\n",
    "        'https://tfhub.dev/tensorflow/bert_en_uncased_preprocess/3',\n",
    "    'talking-heads_base':\n",
    "        'https://tfhub.dev/tensorflow/bert_en_uncased_preprocess/3',\n",
    "}\n",
    "\n",
    "tfhub_handle_encoder = map_name_to_handle[bert_model_name]\n",
    "tfhub_handle_preprocess = map_model_to_preprocess[bert_model_name]\n",
    "\n",
    "print(f'BERT model selected           : {tfhub_handle_encoder}')\n",
    "print(f'Preprocess model auto-selected: {tfhub_handle_preprocess}')"
   ]
  },
  {
   "cell_type": "code",
   "execution_count": 55,
   "metadata": {
    "id": "pWacQoIpl6V8"
   },
   "outputs": [],
   "source": [
    "bert_model_name = 'small_bert/bert_en_uncased_L-8_H-512_A-8' \n",
    "tfhub_handle_encoder = map_name_to_handle[bert_model_name]\n",
    "tfhub_handle_preprocess = map_model_to_preprocess[bert_model_name]"
   ]
  },
  {
   "cell_type": "code",
   "execution_count": 56,
   "metadata": {
    "id": "VZxOxgZpyDNa"
   },
   "outputs": [],
   "source": [
    "bert_preprocess_model = hub.KerasLayer(tfhub_handle_preprocess)"
   ]
  },
  {
   "cell_type": "code",
   "execution_count": 57,
   "metadata": {
    "colab": {
     "base_uri": "https://localhost:8080/"
    },
    "id": "bE8P7osi0Z4u",
    "outputId": "bbe6e1b1-18fe-4643-8ba1-576294bf0d01"
   },
   "outputs": [
    {
     "name": "stdout",
     "output_type": "stream",
     "text": [
      "Keys       : ['input_word_ids', 'input_type_ids', 'input_mask']\n",
      "Shape      : (1, 128)\n",
      "Word Ids   : [ 101 2023 2003 2107 2019 6429 3185  999  102    0    0    0]\n",
      "Input Mask : [1 1 1 1 1 1 1 1 1 0 0 0]\n",
      "Type Ids   : [0 0 0 0 0 0 0 0 0 0 0 0]\n"
     ]
    }
   ],
   "source": [
    "text_test = ['this is such an amazing movie!']\n",
    "text_preprocessed = bert_preprocess_model(text_test)\n",
    "\n",
    "print(f'Keys       : {list(text_preprocessed.keys())}')\n",
    "print(f'Shape      : {text_preprocessed[\"input_word_ids\"].shape}')\n",
    "print(f'Word Ids   : {text_preprocessed[\"input_word_ids\"][0, :12]}')\n",
    "print(f'Input Mask : {text_preprocessed[\"input_mask\"][0, :12]}')\n",
    "print(f'Type Ids   : {text_preprocessed[\"input_type_ids\"][0, :12]}')"
   ]
  },
  {
   "cell_type": "code",
   "execution_count": 58,
   "metadata": {
    "id": "SAB0a-Jn0bsz"
   },
   "outputs": [],
   "source": [
    "bert_model = hub.KerasLayer(tfhub_handle_encoder)"
   ]
  },
  {
   "cell_type": "code",
   "execution_count": 59,
   "metadata": {
    "colab": {
     "base_uri": "https://localhost:8080/"
    },
    "id": "izPERV9y0fS0",
    "outputId": "614413b1-98f2-4fac-98c8-8cfd725a987b"
   },
   "outputs": [
    {
     "name": "stdout",
     "output_type": "stream",
     "text": [
      "Loaded BERT: https://tfhub.dev/tensorflow/small_bert/bert_en_uncased_L-8_H-512_A-8/1\n",
      "Pooled Outputs Shape:(1, 512)\n",
      "Pooled Outputs Values:[ 0.40941042 -0.5673768  -0.9999843  -0.96458274  0.8787061  -0.14462373\n",
      " -0.75539255 -0.01419723  0.55393857  0.02157254 -0.77951187  0.06313917]\n",
      "Sequence Outputs Shape:(1, 128, 512)\n",
      "Sequence Outputs Values:[[ 0.21261796 -0.5496444   1.6522267  ... -0.4531066   0.5578209\n",
      "  -0.8519268 ]\n",
      " [ 0.05303206 -0.5518504  -0.24887416 ... -0.10920344  0.40942514\n",
      "  -0.30195045]\n",
      " [-0.47530103 -0.573211    0.3100407  ... -0.51567715  0.5689236\n",
      "  -0.5102425 ]\n",
      " ...\n",
      " [ 0.424989   -0.43889523  1.1993048  ... -0.37663954  0.32898074\n",
      "  -0.46796656]\n",
      " [ 0.2600221  -0.37434536  1.1515177  ... -0.31171423  0.28399193\n",
      "  -0.34318137]\n",
      " [ 0.0461543  -0.24607307  1.1613255  ... -0.27085257  0.3557993\n",
      "  -0.25757605]]\n"
     ]
    }
   ],
   "source": [
    "bert_results = bert_model(text_preprocessed)\n",
    "\n",
    "print(f'Loaded BERT: {tfhub_handle_encoder}')\n",
    "print(f'Pooled Outputs Shape:{bert_results[\"pooled_output\"].shape}')\n",
    "print(f'Pooled Outputs Values:{bert_results[\"pooled_output\"][0, :12]}')\n",
    "print(f'Sequence Outputs Shape:{bert_results[\"sequence_output\"].shape}')\n",
    "print(f'Sequence Outputs Values:{bert_results[\"sequence_output\"][0, :12]}')"
   ]
  },
  {
   "cell_type": "code",
   "execution_count": 60,
   "metadata": {
    "id": "kj_XLHgV0pQ2"
   },
   "outputs": [],
   "source": [
    "def build_classifier_model():\n",
    "    text_input = tf.keras.layers.Input(shape=(), dtype=tf.string, name='text')\n",
    "    preprocessing_layer = hub.KerasLayer(tfhub_handle_preprocess, name='preprocessing')\n",
    "    encoder_inputs = preprocessing_layer(text_input)\n",
    "    encoder = hub.KerasLayer(tfhub_handle_encoder, trainable=True, name='BERT_encoder')\n",
    "    outputs = encoder(encoder_inputs)\n",
    "    net = outputs['pooled_output']\n",
    "    net = tf.keras.layers.Dropout(0.1)(net)\n",
    "    net = tf.keras.layers.Dense(7, activation='softmax', name='classifier')(net)\n",
    "    return tf.keras.Model(text_input, net)"
   ]
  },
  {
   "cell_type": "code",
   "execution_count": 61,
   "metadata": {
    "colab": {
     "base_uri": "https://localhost:8080/"
    },
    "id": "IIQIeZuR0sT4",
    "outputId": "df27f489-376c-43f7-c3f9-402aecdf4d06"
   },
   "outputs": [
    {
     "name": "stdout",
     "output_type": "stream",
     "text": [
      "tf.Tensor(\n",
      "[[0.13747658 0.12537432 0.1620897  0.14813165 0.13845347 0.15942602\n",
      "  0.12904826]], shape=(1, 7), dtype=float32)\n"
     ]
    }
   ],
   "source": [
    "model_bert = build_classifier_model()\n",
    "bert_raw_result = model_bert(tf.constant(text_test))\n",
    "print(tf.keras.activations.softmax(bert_raw_result))"
   ]
  },
  {
   "cell_type": "code",
   "execution_count": 62,
   "metadata": {
    "colab": {
     "base_uri": "https://localhost:8080/",
     "height": 466
    },
    "id": "zKAasTAe0vOV",
    "outputId": "d03319f1-31b3-4dea-a565-2dc0e602d3c6"
   },
   "outputs": [
    {
     "data": {
      "image/png": "[encoded data removed]",
      "text/plain": [
       "<IPython.core.display.Image object>"
      ]
     },
     "execution_count": 62,
     "metadata": {},
     "output_type": "execute_result"
    }
   ],
   "source": [
    "tf.keras.utils.plot_model(model_bert)"
   ]
  },
  {
   "cell_type": "code",
   "execution_count": 63,
   "metadata": {
    "colab": {
     "base_uri": "https://localhost:8080/"
    },
    "id": "EUq_Lgvd08CI",
    "outputId": "2ff20a5b-114d-4bdf-b91e-65cc06f0cb28"
   },
   "outputs": [
    {
     "name": "stdout",
     "output_type": "stream",
     "text": [
      "Model: \"model\"\n",
      "__________________________________________________________________________________________________\n",
      " Layer (type)                   Output Shape         Param #     Connected to                     \n",
      "==================================================================================================\n",
      " text (InputLayer)              [(None,)]            0           []                               \n",
      "                                                                                                  \n",
      " preprocessing (KerasLayer)     {'input_type_ids':   0           ['text[0][0]']                   \n",
      "                                (None, 128),                                                      \n",
      "                                 'input_mask': (Non                                               \n",
      "                                e, 128),                                                          \n",
      "                                 'input_word_ids':                                                \n",
      "                                (None, 128)}                                                      \n",
      "                                                                                                  \n",
      " BERT_encoder (KerasLayer)      {'pooled_output': (  41373185    ['preprocessing[0][0]',          \n",
      "                                None, 512),                       'preprocessing[0][1]',          \n",
      "                                 'encoder_outputs':               'preprocessing[0][2]']          \n",
      "                                 [(None, 128, 512),                                               \n",
      "                                 (None, 128, 512),                                                \n",
      "                                 (None, 128, 512),                                                \n",
      "                                 (None, 128, 512),                                                \n",
      "                                 (None, 128, 512),                                                \n",
      "                                 (None, 128, 512),                                                \n",
      "                                 (None, 128, 512),                                                \n",
      "                                 (None, 128, 512)],                                               \n",
      "                                 'sequence_output':                                               \n",
      "                                 (None, 128, 512),                                                \n",
      "                                 'default': (None,                                                \n",
      "                                512)}                                                             \n",
      "                                                                                                  \n",
      " dropout_5 (Dropout)            (None, 512)          0           ['BERT_encoder[0][9]']           \n",
      "                                                                                                  \n",
      " classifier (Dense)             (None, 7)            3591        ['dropout_5[0][0]']              \n",
      "                                                                                                  \n",
      "==================================================================================================\n",
      "Total params: 41,376,776\n",
      "Trainable params: 41,376,775\n",
      "Non-trainable params: 1\n",
      "__________________________________________________________________________________________________\n"
     ]
    }
   ],
   "source": [
    "model_bert.compile(loss='categorical_crossentropy', optimizer='adam', metrics=['acc'])\n",
    "model_bert.summary()"
   ]
  },
  {
   "cell_type": "code",
   "execution_count": 64,
   "metadata": {
    "id": "sSo6FwCYhp-j"
   },
   "outputs": [],
   "source": [
    "X = df.drop(columns=['intent']).copy()\n",
    "y = label_binarize(df['intent'], classes=df['intent'].unique())"
   ]
  },
  {
   "cell_type": "code",
   "execution_count": 65,
   "metadata": {
    "id": "pw4w5RqohxEB"
   },
   "outputs": [],
   "source": [
    "X_train, X_test, y_train, y_test = train_test_split(X, y, shuffle=True, test_size=0.2, random_state=21)"
   ]
  },
  {
   "cell_type": "code",
   "execution_count": 66,
   "metadata": {
    "colab": {
     "base_uri": "https://localhost:8080/"
    },
    "id": "nPVDcPLctgv4",
    "outputId": "5fe92f5a-7ff1-4711-a7a5-08cb9df5cffa"
   },
   "outputs": [
    {
     "name": "stdout",
     "output_type": "stream",
     "text": [
      "Epoch 1/5\n",
      "3/3 [==============================] - ETA: 0s - loss: 2.4489 - acc: 0.2234 \n",
      "Epoch 1: val_loss improved from inf to 2.63818, saving model to /content/drive/MyDrive/Colab Notebooks/21/intent/data/model_bert.h5\n",
      "3/3 [==============================] - 71s 20s/step - loss: 2.4489 - acc: 0.2234 - val_loss: 2.6382 - val_acc: 0.1667\n",
      "Epoch 2/5\n",
      "3/3 [==============================] - ETA: 0s - loss: 2.5154 - acc: 0.2234 \n",
      "Epoch 2: val_loss improved from 2.63818 to 2.47779, saving model to /content/drive/MyDrive/Colab Notebooks/21/intent/data/model_bert.h5\n",
      "3/3 [==============================] - 57s 20s/step - loss: 2.5154 - acc: 0.2234 - val_loss: 2.4778 - val_acc: 0.1667\n",
      "Epoch 3/5\n",
      "3/3 [==============================] - ETA: 0s - loss: 2.1411 - acc: 0.1915 \n",
      "Epoch 3: val_loss improved from 2.47779 to 2.06428, saving model to /content/drive/MyDrive/Colab Notebooks/21/intent/data/model_bert.h5\n",
      "3/3 [==============================] - 60s 20s/step - loss: 2.1411 - acc: 0.1915 - val_loss: 2.0643 - val_acc: 0.1250\n",
      "Epoch 4/5\n",
      "3/3 [==============================] - ETA: 0s - loss: 1.9492 - acc: 0.1596 \n",
      "Epoch 4: val_loss improved from 2.06428 to 1.99484, saving model to /content/drive/MyDrive/Colab Notebooks/21/intent/data/model_bert.h5\n",
      "3/3 [==============================] - 55s 19s/step - loss: 1.9492 - acc: 0.1596 - val_loss: 1.9948 - val_acc: 0.1250\n",
      "Epoch 5/5\n",
      "3/3 [==============================] - ETA: 0s - loss: 1.8786 - acc: 0.1915 \n",
      "Epoch 5: val_loss improved from 1.99484 to 1.95656, saving model to /content/drive/MyDrive/Colab Notebooks/21/intent/data/model_bert.h5\n",
      "3/3 [==============================] - 54s 19s/step - loss: 1.8786 - acc: 0.1915 - val_loss: 1.9566 - val_acc: 0.1250\n"
     ]
    }
   ],
   "source": [
    "model_bert_filename = 'model_bert.h5'\n",
    "checkpoint = ModelCheckpoint(PATH+model_bert_filename, monitor='val_loss', verbose=1, save_best_only=True, mode='min')\n",
    "history = model_bert.fit(X_train, y_train, epochs=5, validation_data=(X_test, y_test), callbacks=[checkpoint])"
   ]
  },
  {
   "cell_type": "code",
   "execution_count": 67,
   "metadata": {
    "colab": {
     "base_uri": "https://localhost:8080/"
    },
    "id": "-gImcl-01Myy",
    "outputId": "7f315e56-6e9e-4680-a78f-38e7827a3b98"
   },
   "outputs": [
    {
     "name": "stdout",
     "output_type": "stream",
     "text": [
      "3/3 [==============================] - 15s 5s/step - loss: 1.8055 - acc: 0.2234\n",
      "Loss: 1.8055366277694702\n",
      "Accuracy: 0.22340425848960876\n"
     ]
    }
   ],
   "source": [
    "loss, accuracy = model_bert.evaluate(X_train, y_train)\n",
    "\n",
    "print(f'Loss: {loss}')\n",
    "print(f'Accuracy: {accuracy}')"
   ]
  },
  {
   "cell_type": "code",
   "execution_count": 68,
   "metadata": {
    "colab": {
     "base_uri": "https://localhost:8080/",
     "height": 573
    },
    "id": "LarJmG2_1UTA",
    "outputId": "779b8a17-286d-4eb6-959d-b724dadfd3ae"
   },
   "outputs": [
    {
     "data": {
      "image/png": "[encoded data removed]",
      "text/plain": [
       "<Figure size 432x288 with 1 Axes>"
      ]
     },
     "metadata": {
      "needs_background": "light"
     },
     "output_type": "display_data"
    },
    {
     "data": {
      "image/png": "[encoded data removed]",
      "text/plain": [
       "<Figure size 432x288 with 1 Axes>"
      ]
     },
     "metadata": {
      "needs_background": "light"
     },
     "output_type": "display_data"
    }
   ],
   "source": [
    "# summarize history for accuracy\n",
    "plt.plot(history.history['acc'])\n",
    "plt.plot(history.history['val_acc'])\n",
    "plt.title('model accuracy')\n",
    "plt.ylabel('accuracy')\n",
    "plt.xlabel('epoch')\n",
    "plt.legend(['train', 'test'], loc='lower right')\n",
    "plt.show()\n",
    "# summarize history for loss\n",
    "plt.plot(history.history['loss'])\n",
    "plt.plot(history.history['val_loss'])\n",
    "plt.title('model loss')\n",
    "plt.ylabel('loss')\n",
    "plt.xlabel('epoch')\n",
    "plt.legend(['train', 'test'], loc='upper right')\n",
    "plt.show()"
   ]
  },
  {
   "cell_type": "code",
   "execution_count": 69,
   "metadata": {
    "id": "_cyRPkeTrfRU"
   },
   "outputs": [],
   "source": [
    "roc_auc_matrix = roc_auc_matrix.append(pd.Series(data={'model': 'model BERT: preprocessing, BERT_encoder, Dropout(0.5), Dense(7)',\n",
    "                                                       'roc_auc': round(roc_auc_score(label_binarize(df['intent'], classes=df['intent'].unique()),\n",
    "                                                                                      model_bert.predict(df['text']),\n",
    "                                                                                      multi_class='ovr'), 3)\n",
    "                                                       }), ignore_index=True)"
   ]
  },
  {
   "cell_type": "markdown",
   "metadata": {
    "id": "AnBEncidv_vZ"
   },
   "source": [
    "# Conclusion"
   ]
  },
  {
   "cell_type": "code",
   "execution_count": 70,
   "metadata": {
    "colab": {
     "base_uri": "https://localhost:8080/",
     "height": 173
    },
    "id": "1WgGJAf6cJ1e",
    "outputId": "9b67bdd5-746c-481d-e6db-9b6fb946a58c"
   },
   "outputs": [
    {
     "data": {
      "text/html": [
       "\n",
       "  <div id=\"df-a06d4aeb-9cf7-40aa-abc5-930606a81f94\">\n",
       "    <div class=\"colab-df-container\">\n",
       "      <div>\n",
       "<style scoped>\n",
       "    .dataframe tbody tr th:only-of-type {\n",
       "        vertical-align: middle;\n",
       "    }\n",
       "\n",
       "    .dataframe tbody tr th {\n",
       "        vertical-align: top;\n",
       "    }\n",
       "\n",
       "    .dataframe thead th {\n",
       "        text-align: right;\n",
       "    }\n",
       "</style>\n",
       "<table border=\"1\" class=\"dataframe\">\n",
       "  <thead>\n",
       "    <tr style=\"text-align: right;\">\n",
       "      <th></th>\n",
       "      <th>model</th>\n",
       "      <th>roc_auc</th>\n",
       "    </tr>\n",
       "  </thead>\n",
       "  <tbody>\n",
       "    <tr>\n",
       "      <th>0</th>\n",
       "      <td>model RNN: Embedding (64), Bidirectional(LSTM(...</td>\n",
       "      <td>0.908</td>\n",
       "    </tr>\n",
       "    <tr>\n",
       "      <th>1</th>\n",
       "      <td>model LSTM: Embedding (64), LSTM(10), Dense(64...</td>\n",
       "      <td>0.894</td>\n",
       "    </tr>\n",
       "    <tr>\n",
       "      <th>2</th>\n",
       "      <td>model CNN: Embedding (64), Reshape(14,64,1), C...</td>\n",
       "      <td>0.912</td>\n",
       "    </tr>\n",
       "    <tr>\n",
       "      <th>3</th>\n",
       "      <td>model BERT: preprocessing, BERT_encoder, Dropo...</td>\n",
       "      <td>0.501</td>\n",
       "    </tr>\n",
       "  </tbody>\n",
       "</table>\n",
       "</div>\n",
       "      <button class=\"colab-df-convert\" onclick=\"convertToInteractive('df-a06d4aeb-9cf7-40aa-abc5-930606a81f94')\"\n",
       "              title=\"Convert this dataframe to an interactive table.\"\n",
       "              style=\"display:none;\">\n",
       "        \n",
       "  <svg xmlns=\"http://www.w3.org/2000/svg\" height=\"24px\"viewBox=\"0 0 24 24\"\n",
       "       width=\"24px\">\n",
       "    <path d=\"M0 0h24v24H0V0z\" fill=\"none\"/>\n",
       "    <path d=\"M18.56 5.44l.94 2.06.94-2.06 2.06-.94-2.06-.94-.94-2.06-.94 2.06-2.06.94zm-11 1L8.5 8.5l.94-2.06 2.06-.94-2.06-.94L8.5 2.5l-.94 2.06-2.06.94zm10 10l.94 2.06.94-2.06 2.06-.94-2.06-.94-.94-2.06-.94 2.06-2.06.94z\"/><path d=\"M17.41 7.96l-1.37-1.37c-.4-.4-.92-.59-1.43-.59-.52 0-1.04.2-1.43.59L10.3 9.45l-7.72 7.72c-.78.78-.78 2.05 0 2.83L4 21.41c.39.39.9.59 1.41.59.51 0 1.02-.2 1.41-.59l7.78-7.78 2.81-2.81c.8-.78.8-2.07 0-2.86zM5.41 20L4 18.59l7.72-7.72 1.47 1.35L5.41 20z\"/>\n",
       "  </svg>\n",
       "      </button>\n",
       "      \n",
       "  <style>\n",
       "    .colab-df-container {\n",
       "      display:flex;\n",
       "      flex-wrap:wrap;\n",
       "      gap: 12px;\n",
       "    }\n",
       "\n",
       "    .colab-df-convert {\n",
       "      background-color: #E8F0FE;\n",
       "      border: none;\n",
       "      border-radius: 50%;\n",
       "      cursor: pointer;\n",
       "      display: none;\n",
       "      fill: #1967D2;\n",
       "      height: 32px;\n",
       "      padding: 0 0 0 0;\n",
       "      width: 32px;\n",
       "    }\n",
       "\n",
       "    .colab-df-convert:hover {\n",
       "      background-color: #E2EBFA;\n",
       "      box-shadow: 0px 1px 2px rgba(60, 64, 67, 0.3), 0px 1px 3px 1px rgba(60, 64, 67, 0.15);\n",
       "      fill: #174EA6;\n",
       "    }\n",
       "\n",
       "    [theme=dark] .colab-df-convert {\n",
       "      background-color: #3B4455;\n",
       "      fill: #D2E3FC;\n",
       "    }\n",
       "\n",
       "    [theme=dark] .colab-df-convert:hover {\n",
       "      background-color: #434B5C;\n",
       "      box-shadow: 0px 1px 3px 1px rgba(0, 0, 0, 0.15);\n",
       "      filter: drop-shadow(0px 1px 2px rgba(0, 0, 0, 0.3));\n",
       "      fill: #FFFFFF;\n",
       "    }\n",
       "  </style>\n",
       "\n",
       "      <script>\n",
       "        const buttonEl =\n",
       "          document.querySelector('#df-a06d4aeb-9cf7-40aa-abc5-930606a81f94 button.colab-df-convert');\n",
       "        buttonEl.style.display =\n",
       "          google.colab.kernel.accessAllowed ? 'block' : 'none';\n",
       "\n",
       "        async function convertToInteractive(key) {\n",
       "          const element = document.querySelector('#df-a06d4aeb-9cf7-40aa-abc5-930606a81f94');\n",
       "          const dataTable =\n",
       "            await google.colab.kernel.invokeFunction('convertToInteractive',\n",
       "                                                     [key], {});\n",
       "          if (!dataTable) return;\n",
       "\n",
       "          const docLinkHtml = 'Like what you see? Visit the ' +\n",
       "            '<a target=\"_blank\" href=https://colab.research.google.com/notebooks/data_table.ipynb>data table notebook</a>'\n",
       "            + ' to learn more about interactive tables.';\n",
       "          element.innerHTML = '';\n",
       "          dataTable['output_type'] = 'display_data';\n",
       "          await google.colab.output.renderOutput(dataTable, element);\n",
       "          const docLink = document.createElement('div');\n",
       "          docLink.innerHTML = docLinkHtml;\n",
       "          element.appendChild(docLink);\n",
       "        }\n",
       "      </script>\n",
       "    </div>\n",
       "  </div>\n",
       "  "
      ],
      "text/plain": [
       "                                               model  roc_auc\n",
       "0  model RNN: Embedding (64), Bidirectional(LSTM(...    0.908\n",
       "1  model LSTM: Embedding (64), LSTM(10), Dense(64...    0.894\n",
       "2  model CNN: Embedding (64), Reshape(14,64,1), C...    0.912\n",
       "3  model BERT: preprocessing, BERT_encoder, Dropo...    0.501"
      ]
     },
     "execution_count": 70,
     "metadata": {},
     "output_type": "execute_result"
    }
   ],
   "source": [
    "roc_auc_matrix"
   ]
  },
  {
   "cell_type": "code",
   "execution_count": 71,
   "metadata": {
    "id": "YjXKos8ocXvw"
   },
   "outputs": [],
   "source": [
    "model_best = load_model(PATH+model_rnn_filename)"
   ]
  },
  {
   "cell_type": "code",
   "execution_count": 72,
   "metadata": {
    "id": "P1ddofshmdzK"
   },
   "outputs": [],
   "source": [
    "def get_final_output(pred, classes):\n",
    "    predictions = pred[0]\n",
    "    classes = np.array(classes)\n",
    "    ids = np.argsort(-predictions)\n",
    "    classes = classes[ids]\n",
    "    predictions = -np.sort(-predictions)\n",
    "    for i in range(pred.shape[1]):\n",
    "        print(f'{classes[i]} has confidence = {predictions[i]}')"
   ]
  },
  {
   "cell_type": "code",
   "execution_count": 73,
   "metadata": {
    "colab": {
     "base_uri": "https://localhost:8080/"
    },
    "id": "23VpGuihMdEU",
    "outputId": "8dd03ff0-ab64-4816-de7b-f9e6daa8f472"
   },
   "outputs": [
    {
     "name": "stdout",
     "output_type": "stream",
     "text": [
      "Bike.Types has confidence = 0.8365579843521118\n",
      "Trade.in.Options has confidence = 0.09403059631586075\n",
      "Make.Appointment has confidence = 0.05326329916715622\n",
      "Cost.Estimation has confidence = 0.007863787934184074\n",
      "Return.Policy has confidence = 0.004811134655028582\n",
      "Hours has confidence = 0.0019642470870167017\n",
      "Welcome.Intent has confidence = 0.0015088992659002542\n"
     ]
    }
   ],
   "source": [
    "text = 'Carbon fiber bike'\n",
    "pred = get_predictions(text, model_best, all=True)\n",
    "get_final_output(pred, df['intent'].unique())"
   ]
  },
  {
   "cell_type": "code",
   "execution_count": 74,
   "metadata": {
    "colab": {
     "base_uri": "https://localhost:8080/",
     "height": 204
    },
    "id": "gGWB7uPTXOx4",
    "outputId": "3e50a785-964d-4cba-aee0-157b7169b933"
   },
   "outputs": [
    {
     "data": {
      "text/html": [
       "\n",
       "  <div id=\"df-6404b87a-45f6-4d54-b788-268838de090f\">\n",
       "    <div class=\"colab-df-container\">\n",
       "      <div>\n",
       "<style scoped>\n",
       "    .dataframe tbody tr th:only-of-type {\n",
       "        vertical-align: middle;\n",
       "    }\n",
       "\n",
       "    .dataframe tbody tr th {\n",
       "        vertical-align: top;\n",
       "    }\n",
       "\n",
       "    .dataframe thead th {\n",
       "        text-align: right;\n",
       "    }\n",
       "</style>\n",
       "<table border=\"1\" class=\"dataframe\">\n",
       "  <thead>\n",
       "    <tr style=\"text-align: right;\">\n",
       "      <th></th>\n",
       "      <th>text</th>\n",
       "    </tr>\n",
       "  </thead>\n",
       "  <tbody>\n",
       "    <tr>\n",
       "      <th>0</th>\n",
       "      <td>Do I need to replace my helmet?</td>\n",
       "    </tr>\n",
       "    <tr>\n",
       "      <th>1</th>\n",
       "      <td>My bike was stolen what should I do?</td>\n",
       "    </tr>\n",
       "    <tr>\n",
       "      <th>2</th>\n",
       "      <td>What types or choices of bikes do I have in yo...</td>\n",
       "    </tr>\n",
       "    <tr>\n",
       "      <th>3</th>\n",
       "      <td>Do you rent bikes?</td>\n",
       "    </tr>\n",
       "    <tr>\n",
       "      <th>4</th>\n",
       "      <td>I'm a student and I'm doing a project...</td>\n",
       "    </tr>\n",
       "  </tbody>\n",
       "</table>\n",
       "</div>\n",
       "      <button class=\"colab-df-convert\" onclick=\"convertToInteractive('df-6404b87a-45f6-4d54-b788-268838de090f')\"\n",
       "              title=\"Convert this dataframe to an interactive table.\"\n",
       "              style=\"display:none;\">\n",
       "        \n",
       "  <svg xmlns=\"http://www.w3.org/2000/svg\" height=\"24px\"viewBox=\"0 0 24 24\"\n",
       "       width=\"24px\">\n",
       "    <path d=\"M0 0h24v24H0V0z\" fill=\"none\"/>\n",
       "    <path d=\"M18.56 5.44l.94 2.06.94-2.06 2.06-.94-2.06-.94-.94-2.06-.94 2.06-2.06.94zm-11 1L8.5 8.5l.94-2.06 2.06-.94-2.06-.94L8.5 2.5l-.94 2.06-2.06.94zm10 10l.94 2.06.94-2.06 2.06-.94-2.06-.94-.94-2.06-.94 2.06-2.06.94z\"/><path d=\"M17.41 7.96l-1.37-1.37c-.4-.4-.92-.59-1.43-.59-.52 0-1.04.2-1.43.59L10.3 9.45l-7.72 7.72c-.78.78-.78 2.05 0 2.83L4 21.41c.39.39.9.59 1.41.59.51 0 1.02-.2 1.41-.59l7.78-7.78 2.81-2.81c.8-.78.8-2.07 0-2.86zM5.41 20L4 18.59l7.72-7.72 1.47 1.35L5.41 20z\"/>\n",
       "  </svg>\n",
       "      </button>\n",
       "      \n",
       "  <style>\n",
       "    .colab-df-container {\n",
       "      display:flex;\n",
       "      flex-wrap:wrap;\n",
       "      gap: 12px;\n",
       "    }\n",
       "\n",
       "    .colab-df-convert {\n",
       "      background-color: #E8F0FE;\n",
       "      border: none;\n",
       "      border-radius: 50%;\n",
       "      cursor: pointer;\n",
       "      display: none;\n",
       "      fill: #1967D2;\n",
       "      height: 32px;\n",
       "      padding: 0 0 0 0;\n",
       "      width: 32px;\n",
       "    }\n",
       "\n",
       "    .colab-df-convert:hover {\n",
       "      background-color: #E2EBFA;\n",
       "      box-shadow: 0px 1px 2px rgba(60, 64, 67, 0.3), 0px 1px 3px 1px rgba(60, 64, 67, 0.15);\n",
       "      fill: #174EA6;\n",
       "    }\n",
       "\n",
       "    [theme=dark] .colab-df-convert {\n",
       "      background-color: #3B4455;\n",
       "      fill: #D2E3FC;\n",
       "    }\n",
       "\n",
       "    [theme=dark] .colab-df-convert:hover {\n",
       "      background-color: #434B5C;\n",
       "      box-shadow: 0px 1px 3px 1px rgba(0, 0, 0, 0.15);\n",
       "      filter: drop-shadow(0px 1px 2px rgba(0, 0, 0, 0.3));\n",
       "      fill: #FFFFFF;\n",
       "    }\n",
       "  </style>\n",
       "\n",
       "      <script>\n",
       "        const buttonEl =\n",
       "          document.querySelector('#df-6404b87a-45f6-4d54-b788-268838de090f button.colab-df-convert');\n",
       "        buttonEl.style.display =\n",
       "          google.colab.kernel.accessAllowed ? 'block' : 'none';\n",
       "\n",
       "        async function convertToInteractive(key) {\n",
       "          const element = document.querySelector('#df-6404b87a-45f6-4d54-b788-268838de090f');\n",
       "          const dataTable =\n",
       "            await google.colab.kernel.invokeFunction('convertToInteractive',\n",
       "                                                     [key], {});\n",
       "          if (!dataTable) return;\n",
       "\n",
       "          const docLinkHtml = 'Like what you see? Visit the ' +\n",
       "            '<a target=\"_blank\" href=https://colab.research.google.com/notebooks/data_table.ipynb>data table notebook</a>'\n",
       "            + ' to learn more about interactive tables.';\n",
       "          element.innerHTML = '';\n",
       "          dataTable['output_type'] = 'display_data';\n",
       "          await google.colab.output.renderOutput(dataTable, element);\n",
       "          const docLink = document.createElement('div');\n",
       "          docLink.innerHTML = docLinkHtml;\n",
       "          element.appendChild(docLink);\n",
       "        }\n",
       "      </script>\n",
       "    </div>\n",
       "  </div>\n",
       "  "
      ],
      "text/plain": [
       "                                                text\n",
       "0                    Do I need to replace my helmet?\n",
       "1               My bike was stolen what should I do?\n",
       "2  What types or choices of bikes do I have in yo...\n",
       "3                                 Do you rent bikes?\n",
       "4           I'm a student and I'm doing a project..."
      ]
     },
     "execution_count": 74,
     "metadata": {},
     "output_type": "execute_result"
    }
   ],
   "source": [
    "df_test = pd.read_csv(PATH+'intents_test.csv', header=0)\n",
    "df_test.head()"
   ]
  },
  {
   "cell_type": "code",
   "execution_count": 75,
   "metadata": {
    "colab": {
     "base_uri": "https://localhost:8080/",
     "height": 204
    },
    "id": "UIiO_UNhXOvC",
    "outputId": "6d865bdc-77c0-4a20-f514-8cf337573bd5"
   },
   "outputs": [
    {
     "data": {
      "text/html": [
       "\n",
       "  <div id=\"df-817b6569-7df2-4cc8-9c7e-4921719fca0a\">\n",
       "    <div class=\"colab-df-container\">\n",
       "      <div>\n",
       "<style scoped>\n",
       "    .dataframe tbody tr th:only-of-type {\n",
       "        vertical-align: middle;\n",
       "    }\n",
       "\n",
       "    .dataframe tbody tr th {\n",
       "        vertical-align: top;\n",
       "    }\n",
       "\n",
       "    .dataframe thead th {\n",
       "        text-align: right;\n",
       "    }\n",
       "</style>\n",
       "<table border=\"1\" class=\"dataframe\">\n",
       "  <thead>\n",
       "    <tr style=\"text-align: right;\">\n",
       "      <th></th>\n",
       "      <th>text</th>\n",
       "      <th>intent</th>\n",
       "    </tr>\n",
       "  </thead>\n",
       "  <tbody>\n",
       "    <tr>\n",
       "      <th>0</th>\n",
       "      <td>Do I need to replace my helmet?</td>\n",
       "      <td>Make.Appointment</td>\n",
       "    </tr>\n",
       "    <tr>\n",
       "      <th>1</th>\n",
       "      <td>My bike was stolen what should I do?</td>\n",
       "      <td>Make.Appointment</td>\n",
       "    </tr>\n",
       "    <tr>\n",
       "      <th>2</th>\n",
       "      <td>What types or choices of bikes do I have in yo...</td>\n",
       "      <td>Bike.Types</td>\n",
       "    </tr>\n",
       "    <tr>\n",
       "      <th>3</th>\n",
       "      <td>Do you rent bikes?</td>\n",
       "      <td>Bike.Types</td>\n",
       "    </tr>\n",
       "    <tr>\n",
       "      <th>4</th>\n",
       "      <td>I'm a student and I'm doing a project...</td>\n",
       "      <td>Make.Appointment</td>\n",
       "    </tr>\n",
       "  </tbody>\n",
       "</table>\n",
       "</div>\n",
       "      <button class=\"colab-df-convert\" onclick=\"convertToInteractive('df-817b6569-7df2-4cc8-9c7e-4921719fca0a')\"\n",
       "              title=\"Convert this dataframe to an interactive table.\"\n",
       "              style=\"display:none;\">\n",
       "        \n",
       "  <svg xmlns=\"http://www.w3.org/2000/svg\" height=\"24px\"viewBox=\"0 0 24 24\"\n",
       "       width=\"24px\">\n",
       "    <path d=\"M0 0h24v24H0V0z\" fill=\"none\"/>\n",
       "    <path d=\"M18.56 5.44l.94 2.06.94-2.06 2.06-.94-2.06-.94-.94-2.06-.94 2.06-2.06.94zm-11 1L8.5 8.5l.94-2.06 2.06-.94-2.06-.94L8.5 2.5l-.94 2.06-2.06.94zm10 10l.94 2.06.94-2.06 2.06-.94-2.06-.94-.94-2.06-.94 2.06-2.06.94z\"/><path d=\"M17.41 7.96l-1.37-1.37c-.4-.4-.92-.59-1.43-.59-.52 0-1.04.2-1.43.59L10.3 9.45l-7.72 7.72c-.78.78-.78 2.05 0 2.83L4 21.41c.39.39.9.59 1.41.59.51 0 1.02-.2 1.41-.59l7.78-7.78 2.81-2.81c.8-.78.8-2.07 0-2.86zM5.41 20L4 18.59l7.72-7.72 1.47 1.35L5.41 20z\"/>\n",
       "  </svg>\n",
       "      </button>\n",
       "      \n",
       "  <style>\n",
       "    .colab-df-container {\n",
       "      display:flex;\n",
       "      flex-wrap:wrap;\n",
       "      gap: 12px;\n",
       "    }\n",
       "\n",
       "    .colab-df-convert {\n",
       "      background-color: #E8F0FE;\n",
       "      border: none;\n",
       "      border-radius: 50%;\n",
       "      cursor: pointer;\n",
       "      display: none;\n",
       "      fill: #1967D2;\n",
       "      height: 32px;\n",
       "      padding: 0 0 0 0;\n",
       "      width: 32px;\n",
       "    }\n",
       "\n",
       "    .colab-df-convert:hover {\n",
       "      background-color: #E2EBFA;\n",
       "      box-shadow: 0px 1px 2px rgba(60, 64, 67, 0.3), 0px 1px 3px 1px rgba(60, 64, 67, 0.15);\n",
       "      fill: #174EA6;\n",
       "    }\n",
       "\n",
       "    [theme=dark] .colab-df-convert {\n",
       "      background-color: #3B4455;\n",
       "      fill: #D2E3FC;\n",
       "    }\n",
       "\n",
       "    [theme=dark] .colab-df-convert:hover {\n",
       "      background-color: #434B5C;\n",
       "      box-shadow: 0px 1px 3px 1px rgba(0, 0, 0, 0.15);\n",
       "      filter: drop-shadow(0px 1px 2px rgba(0, 0, 0, 0.3));\n",
       "      fill: #FFFFFF;\n",
       "    }\n",
       "  </style>\n",
       "\n",
       "      <script>\n",
       "        const buttonEl =\n",
       "          document.querySelector('#df-817b6569-7df2-4cc8-9c7e-4921719fca0a button.colab-df-convert');\n",
       "        buttonEl.style.display =\n",
       "          google.colab.kernel.accessAllowed ? 'block' : 'none';\n",
       "\n",
       "        async function convertToInteractive(key) {\n",
       "          const element = document.querySelector('#df-817b6569-7df2-4cc8-9c7e-4921719fca0a');\n",
       "          const dataTable =\n",
       "            await google.colab.kernel.invokeFunction('convertToInteractive',\n",
       "                                                     [key], {});\n",
       "          if (!dataTable) return;\n",
       "\n",
       "          const docLinkHtml = 'Like what you see? Visit the ' +\n",
       "            '<a target=\"_blank\" href=https://colab.research.google.com/notebooks/data_table.ipynb>data table notebook</a>'\n",
       "            + ' to learn more about interactive tables.';\n",
       "          element.innerHTML = '';\n",
       "          dataTable['output_type'] = 'display_data';\n",
       "          await google.colab.output.renderOutput(dataTable, element);\n",
       "          const docLink = document.createElement('div');\n",
       "          docLink.innerHTML = docLinkHtml;\n",
       "          element.appendChild(docLink);\n",
       "        }\n",
       "      </script>\n",
       "    </div>\n",
       "  </div>\n",
       "  "
      ],
      "text/plain": [
       "                                                text            intent\n",
       "0                    Do I need to replace my helmet?  Make.Appointment\n",
       "1               My bike was stolen what should I do?  Make.Appointment\n",
       "2  What types or choices of bikes do I have in yo...        Bike.Types\n",
       "3                                 Do you rent bikes?        Bike.Types\n",
       "4           I'm a student and I'm doing a project...  Make.Appointment"
      ]
     },
     "execution_count": 75,
     "metadata": {},
     "output_type": "execute_result"
    }
   ],
   "source": [
    "df_test['intent'] = df_test['text'].apply(get_predictions, model=model_best)\n",
    "df_test.head()"
   ]
  },
  {
   "cell_type": "code",
   "execution_count": 76,
   "metadata": {
    "id": "v7oItbBYr7jG"
   },
   "outputs": [],
   "source": [
    "df_test.to_csv(PATH+'intents_predict.csv')"
   ]
  },
  {
   "cell_type": "code",
   "execution_count": 77,
   "metadata": {
    "colab": {
     "base_uri": "https://localhost:8080/"
    },
    "id": "nE1Uy4MpslXm",
    "outputId": "d5a09e95-4bc9-4389-85c4-0637eabef1c8"
   },
   "outputs": [
    {
     "name": "stderr",
     "output_type": "stream",
     "text": [
      "WARNING:absl:Found untraced functions such as lstm_cell_1_layer_call_fn, lstm_cell_1_layer_call_and_return_conditional_losses, lstm_cell_2_layer_call_fn, lstm_cell_2_layer_call_and_return_conditional_losses, lstm_cell_4_layer_call_fn while saving (showing 5 of 8). These functions will not be directly callable after loading.\n",
      "WARNING:absl:<keras.layers.recurrent.LSTMCell object at 0x7fceffbd5510> has the same name 'LSTMCell' as a built-in Keras object. Consider renaming <class 'keras.layers.recurrent.LSTMCell'> to avoid naming conflicts when loading with `tf.keras.models.load_model`. If renaming is not possible, pass the object in the `custom_objects` parameter of the load function.\n",
      "WARNING:absl:<keras.layers.recurrent.LSTMCell object at 0x7fceffc00e50> has the same name 'LSTMCell' as a built-in Keras object. Consider renaming <class 'keras.layers.recurrent.LSTMCell'> to avoid naming conflicts when loading with `tf.keras.models.load_model`. If renaming is not possible, pass the object in the `custom_objects` parameter of the load function.\n",
      "WARNING:absl:<keras.layers.recurrent.LSTMCell object at 0x7fcefb553f90> has the same name 'LSTMCell' as a built-in Keras object. Consider renaming <class 'keras.layers.recurrent.LSTMCell'> to avoid naming conflicts when loading with `tf.keras.models.load_model`. If renaming is not possible, pass the object in the `custom_objects` parameter of the load function.\n",
      "WARNING:absl:<keras.layers.recurrent.LSTMCell object at 0x7fcefb26f9d0> has the same name 'LSTMCell' as a built-in Keras object. Consider renaming <class 'keras.layers.recurrent.LSTMCell'> to avoid naming conflicts when loading with `tf.keras.models.load_model`. If renaming is not possible, pass the object in the `custom_objects` parameter of the load function.\n"
     ]
    }
   ],
   "source": [
    "import pickle\n",
    "with open(PATH+'model.pkl', 'wb') as fp:\n",
    "    pickle.dump(model_rnn, fp)"
   ]
  },
  {
   "cell_type": "code",
   "execution_count": 78,
   "metadata": {
    "id": "DzbwF32btarf"
   },
   "outputs": [],
   "source": [
    "with open(PATH+'model.pkl', 'rb') as fp:\n",
    "    model_pkl = pickle.load(fp)"
   ]
  },
  {
   "cell_type": "code",
   "execution_count": 79,
   "metadata": {
    "colab": {
     "base_uri": "https://localhost:8080/"
    },
    "id": "QSenj6mat4QG",
    "outputId": "ff5abc68-d597-46c6-e56d-7288f072f2a2"
   },
   "outputs": [
    {
     "data": {
      "text/plain": [
       "0.908"
      ]
     },
     "execution_count": 79,
     "metadata": {},
     "output_type": "execute_result"
    }
   ],
   "source": [
    "round(roc_auc_score(label_binarize(df['intent'], classes=df['intent'].unique()),\n",
    "                    label_binarize(df['text'].apply(get_predictions, model=model_pkl), classes=df['intent'].unique()),\n",
    "                    multi_class='ovr'), 3)"
   ]
  }
 ],
 "metadata": {
  "colab": {
   "collapsed_sections": [],
   "provenance": []
  },
  "kernelspec": {
   "display_name": "Python 3 (ipykernel)",
   "language": "python",
   "name": "python3"
  },
  "language_info": {
   "codemirror_mode": {
    "name": "ipython",
    "version": 3
   },
   "file_extension": ".py",
   "mimetype": "text/x-python",
   "name": "python",
   "nbconvert_exporter": "python",
   "pygments_lexer": "ipython3",
   "version": "3.9.13"
  }
 },
 "nbformat": 4,
 "nbformat_minor": 1
}
